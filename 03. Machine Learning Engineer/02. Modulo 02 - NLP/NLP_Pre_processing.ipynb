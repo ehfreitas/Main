{
  "nbformat": 4,
  "nbformat_minor": 0,
  "metadata": {
    "colab": {
      "provenance": []
    },
    "kernelspec": {
      "name": "python3",
      "display_name": "Python 3"
    },
    "language_info": {
      "name": "python"
    },
    "widgets": {
      "application/vnd.jupyter.widget-state+json": {
        "6505b2bacdef494cb173627e5ddf58a3": {
          "model_module": "@jupyter-widgets/controls",
          "model_name": "HBoxModel",
          "model_module_version": "1.5.0",
          "state": {
            "_dom_classes": [],
            "_model_module": "@jupyter-widgets/controls",
            "_model_module_version": "1.5.0",
            "_model_name": "HBoxModel",
            "_view_count": null,
            "_view_module": "@jupyter-widgets/controls",
            "_view_module_version": "1.5.0",
            "_view_name": "HBoxView",
            "box_style": "",
            "children": [
              "IPY_MODEL_50b94aeb62c745fb8f3c84987ccc557f",
              "IPY_MODEL_558f4e9d903546beba1ac8d745f5dab2",
              "IPY_MODEL_84750d6b9dcd4231babb98be73f80896"
            ],
            "layout": "IPY_MODEL_bede94688f34496fb6a89cc32f8b8aff"
          }
        },
        "50b94aeb62c745fb8f3c84987ccc557f": {
          "model_module": "@jupyter-widgets/controls",
          "model_name": "HTMLModel",
          "model_module_version": "1.5.0",
          "state": {
            "_dom_classes": [],
            "_model_module": "@jupyter-widgets/controls",
            "_model_module_version": "1.5.0",
            "_model_name": "HTMLModel",
            "_view_count": null,
            "_view_module": "@jupyter-widgets/controls",
            "_view_module_version": "1.5.0",
            "_view_name": "HTMLView",
            "description": "",
            "description_tooltip": null,
            "layout": "IPY_MODEL_92e86e4a331a4637b4e98c914cfaca4b",
            "placeholder": "​",
            "style": "IPY_MODEL_5e968fe7d828474986f9feb0d4d89231",
            "value": "Downloading https://raw.githubusercontent.com/stanfordnlp/stanza-resources/main/resources_1.5.0.json: "
          }
        },
        "558f4e9d903546beba1ac8d745f5dab2": {
          "model_module": "@jupyter-widgets/controls",
          "model_name": "FloatProgressModel",
          "model_module_version": "1.5.0",
          "state": {
            "_dom_classes": [],
            "_model_module": "@jupyter-widgets/controls",
            "_model_module_version": "1.5.0",
            "_model_name": "FloatProgressModel",
            "_view_count": null,
            "_view_module": "@jupyter-widgets/controls",
            "_view_module_version": "1.5.0",
            "_view_name": "ProgressView",
            "bar_style": "success",
            "description": "",
            "description_tooltip": null,
            "layout": "IPY_MODEL_04cd439dbbe649f8ab79680c49f4034f",
            "max": 29910,
            "min": 0,
            "orientation": "horizontal",
            "style": "IPY_MODEL_4b1244b5e34b471b858a1f97d1c918f5",
            "value": 29910
          }
        },
        "84750d6b9dcd4231babb98be73f80896": {
          "model_module": "@jupyter-widgets/controls",
          "model_name": "HTMLModel",
          "model_module_version": "1.5.0",
          "state": {
            "_dom_classes": [],
            "_model_module": "@jupyter-widgets/controls",
            "_model_module_version": "1.5.0",
            "_model_name": "HTMLModel",
            "_view_count": null,
            "_view_module": "@jupyter-widgets/controls",
            "_view_module_version": "1.5.0",
            "_view_name": "HTMLView",
            "description": "",
            "description_tooltip": null,
            "layout": "IPY_MODEL_7336c335c9264266bd73bbbe42125173",
            "placeholder": "​",
            "style": "IPY_MODEL_e36326bb6a0c49aba5d2dbd93b556719",
            "value": " 200k/? [00:00&lt;00:00, 6.70MB/s]"
          }
        },
        "bede94688f34496fb6a89cc32f8b8aff": {
          "model_module": "@jupyter-widgets/base",
          "model_name": "LayoutModel",
          "model_module_version": "1.2.0",
          "state": {
            "_model_module": "@jupyter-widgets/base",
            "_model_module_version": "1.2.0",
            "_model_name": "LayoutModel",
            "_view_count": null,
            "_view_module": "@jupyter-widgets/base",
            "_view_module_version": "1.2.0",
            "_view_name": "LayoutView",
            "align_content": null,
            "align_items": null,
            "align_self": null,
            "border": null,
            "bottom": null,
            "display": null,
            "flex": null,
            "flex_flow": null,
            "grid_area": null,
            "grid_auto_columns": null,
            "grid_auto_flow": null,
            "grid_auto_rows": null,
            "grid_column": null,
            "grid_gap": null,
            "grid_row": null,
            "grid_template_areas": null,
            "grid_template_columns": null,
            "grid_template_rows": null,
            "height": null,
            "justify_content": null,
            "justify_items": null,
            "left": null,
            "margin": null,
            "max_height": null,
            "max_width": null,
            "min_height": null,
            "min_width": null,
            "object_fit": null,
            "object_position": null,
            "order": null,
            "overflow": null,
            "overflow_x": null,
            "overflow_y": null,
            "padding": null,
            "right": null,
            "top": null,
            "visibility": null,
            "width": null
          }
        },
        "92e86e4a331a4637b4e98c914cfaca4b": {
          "model_module": "@jupyter-widgets/base",
          "model_name": "LayoutModel",
          "model_module_version": "1.2.0",
          "state": {
            "_model_module": "@jupyter-widgets/base",
            "_model_module_version": "1.2.0",
            "_model_name": "LayoutModel",
            "_view_count": null,
            "_view_module": "@jupyter-widgets/base",
            "_view_module_version": "1.2.0",
            "_view_name": "LayoutView",
            "align_content": null,
            "align_items": null,
            "align_self": null,
            "border": null,
            "bottom": null,
            "display": null,
            "flex": null,
            "flex_flow": null,
            "grid_area": null,
            "grid_auto_columns": null,
            "grid_auto_flow": null,
            "grid_auto_rows": null,
            "grid_column": null,
            "grid_gap": null,
            "grid_row": null,
            "grid_template_areas": null,
            "grid_template_columns": null,
            "grid_template_rows": null,
            "height": null,
            "justify_content": null,
            "justify_items": null,
            "left": null,
            "margin": null,
            "max_height": null,
            "max_width": null,
            "min_height": null,
            "min_width": null,
            "object_fit": null,
            "object_position": null,
            "order": null,
            "overflow": null,
            "overflow_x": null,
            "overflow_y": null,
            "padding": null,
            "right": null,
            "top": null,
            "visibility": null,
            "width": null
          }
        },
        "5e968fe7d828474986f9feb0d4d89231": {
          "model_module": "@jupyter-widgets/controls",
          "model_name": "DescriptionStyleModel",
          "model_module_version": "1.5.0",
          "state": {
            "_model_module": "@jupyter-widgets/controls",
            "_model_module_version": "1.5.0",
            "_model_name": "DescriptionStyleModel",
            "_view_count": null,
            "_view_module": "@jupyter-widgets/base",
            "_view_module_version": "1.2.0",
            "_view_name": "StyleView",
            "description_width": ""
          }
        },
        "04cd439dbbe649f8ab79680c49f4034f": {
          "model_module": "@jupyter-widgets/base",
          "model_name": "LayoutModel",
          "model_module_version": "1.2.0",
          "state": {
            "_model_module": "@jupyter-widgets/base",
            "_model_module_version": "1.2.0",
            "_model_name": "LayoutModel",
            "_view_count": null,
            "_view_module": "@jupyter-widgets/base",
            "_view_module_version": "1.2.0",
            "_view_name": "LayoutView",
            "align_content": null,
            "align_items": null,
            "align_self": null,
            "border": null,
            "bottom": null,
            "display": null,
            "flex": null,
            "flex_flow": null,
            "grid_area": null,
            "grid_auto_columns": null,
            "grid_auto_flow": null,
            "grid_auto_rows": null,
            "grid_column": null,
            "grid_gap": null,
            "grid_row": null,
            "grid_template_areas": null,
            "grid_template_columns": null,
            "grid_template_rows": null,
            "height": null,
            "justify_content": null,
            "justify_items": null,
            "left": null,
            "margin": null,
            "max_height": null,
            "max_width": null,
            "min_height": null,
            "min_width": null,
            "object_fit": null,
            "object_position": null,
            "order": null,
            "overflow": null,
            "overflow_x": null,
            "overflow_y": null,
            "padding": null,
            "right": null,
            "top": null,
            "visibility": null,
            "width": null
          }
        },
        "4b1244b5e34b471b858a1f97d1c918f5": {
          "model_module": "@jupyter-widgets/controls",
          "model_name": "ProgressStyleModel",
          "model_module_version": "1.5.0",
          "state": {
            "_model_module": "@jupyter-widgets/controls",
            "_model_module_version": "1.5.0",
            "_model_name": "ProgressStyleModel",
            "_view_count": null,
            "_view_module": "@jupyter-widgets/base",
            "_view_module_version": "1.2.0",
            "_view_name": "StyleView",
            "bar_color": null,
            "description_width": ""
          }
        },
        "7336c335c9264266bd73bbbe42125173": {
          "model_module": "@jupyter-widgets/base",
          "model_name": "LayoutModel",
          "model_module_version": "1.2.0",
          "state": {
            "_model_module": "@jupyter-widgets/base",
            "_model_module_version": "1.2.0",
            "_model_name": "LayoutModel",
            "_view_count": null,
            "_view_module": "@jupyter-widgets/base",
            "_view_module_version": "1.2.0",
            "_view_name": "LayoutView",
            "align_content": null,
            "align_items": null,
            "align_self": null,
            "border": null,
            "bottom": null,
            "display": null,
            "flex": null,
            "flex_flow": null,
            "grid_area": null,
            "grid_auto_columns": null,
            "grid_auto_flow": null,
            "grid_auto_rows": null,
            "grid_column": null,
            "grid_gap": null,
            "grid_row": null,
            "grid_template_areas": null,
            "grid_template_columns": null,
            "grid_template_rows": null,
            "height": null,
            "justify_content": null,
            "justify_items": null,
            "left": null,
            "margin": null,
            "max_height": null,
            "max_width": null,
            "min_height": null,
            "min_width": null,
            "object_fit": null,
            "object_position": null,
            "order": null,
            "overflow": null,
            "overflow_x": null,
            "overflow_y": null,
            "padding": null,
            "right": null,
            "top": null,
            "visibility": null,
            "width": null
          }
        },
        "e36326bb6a0c49aba5d2dbd93b556719": {
          "model_module": "@jupyter-widgets/controls",
          "model_name": "DescriptionStyleModel",
          "model_module_version": "1.5.0",
          "state": {
            "_model_module": "@jupyter-widgets/controls",
            "_model_module_version": "1.5.0",
            "_model_name": "DescriptionStyleModel",
            "_view_count": null,
            "_view_module": "@jupyter-widgets/base",
            "_view_module_version": "1.2.0",
            "_view_name": "StyleView",
            "description_width": ""
          }
        },
        "f47632d40a674e278a010f970218358c": {
          "model_module": "@jupyter-widgets/controls",
          "model_name": "HBoxModel",
          "model_module_version": "1.5.0",
          "state": {
            "_dom_classes": [],
            "_model_module": "@jupyter-widgets/controls",
            "_model_module_version": "1.5.0",
            "_model_name": "HBoxModel",
            "_view_count": null,
            "_view_module": "@jupyter-widgets/controls",
            "_view_module_version": "1.5.0",
            "_view_name": "HBoxView",
            "box_style": "",
            "children": [
              "IPY_MODEL_6644871c2e3847f9aa8af7664b5d97d8",
              "IPY_MODEL_05e06bf0599941e9b7e9cf8e9bf72266",
              "IPY_MODEL_be4e7d6cb4ee4cc8a16dbe621bd7eb02"
            ],
            "layout": "IPY_MODEL_187b81f1e4334d499c037e45c18cc760"
          }
        },
        "6644871c2e3847f9aa8af7664b5d97d8": {
          "model_module": "@jupyter-widgets/controls",
          "model_name": "HTMLModel",
          "model_module_version": "1.5.0",
          "state": {
            "_dom_classes": [],
            "_model_module": "@jupyter-widgets/controls",
            "_model_module_version": "1.5.0",
            "_model_name": "HTMLModel",
            "_view_count": null,
            "_view_module": "@jupyter-widgets/controls",
            "_view_module_version": "1.5.0",
            "_view_name": "HTMLView",
            "description": "",
            "description_tooltip": null,
            "layout": "IPY_MODEL_ecbed9eedbd54d6bb3e4549934eb349d",
            "placeholder": "​",
            "style": "IPY_MODEL_a7c9c704829b4da3b57eefade17c2d08",
            "value": "Downloading https://huggingface.co/stanfordnlp/stanza-pt/resolve/v1.5.0/models/default.zip: 100%"
          }
        },
        "05e06bf0599941e9b7e9cf8e9bf72266": {
          "model_module": "@jupyter-widgets/controls",
          "model_name": "FloatProgressModel",
          "model_module_version": "1.5.0",
          "state": {
            "_dom_classes": [],
            "_model_module": "@jupyter-widgets/controls",
            "_model_module_version": "1.5.0",
            "_model_name": "FloatProgressModel",
            "_view_count": null,
            "_view_module": "@jupyter-widgets/controls",
            "_view_module_version": "1.5.0",
            "_view_name": "ProgressView",
            "bar_style": "success",
            "description": "",
            "description_tooltip": null,
            "layout": "IPY_MODEL_32f94c697b054919a510a2cb279a975b",
            "max": 270552444,
            "min": 0,
            "orientation": "horizontal",
            "style": "IPY_MODEL_4f70fe85bf0e4623a2db98d95199675d",
            "value": 270552444
          }
        },
        "be4e7d6cb4ee4cc8a16dbe621bd7eb02": {
          "model_module": "@jupyter-widgets/controls",
          "model_name": "HTMLModel",
          "model_module_version": "1.5.0",
          "state": {
            "_dom_classes": [],
            "_model_module": "@jupyter-widgets/controls",
            "_model_module_version": "1.5.0",
            "_model_name": "HTMLModel",
            "_view_count": null,
            "_view_module": "@jupyter-widgets/controls",
            "_view_module_version": "1.5.0",
            "_view_name": "HTMLView",
            "description": "",
            "description_tooltip": null,
            "layout": "IPY_MODEL_d68670699a314263a18edaf9c0428f4c",
            "placeholder": "​",
            "style": "IPY_MODEL_abae0b112bc543d7ac6c78cbb26eb09f",
            "value": " 271M/271M [00:02&lt;00:00, 89.2MB/s]"
          }
        },
        "187b81f1e4334d499c037e45c18cc760": {
          "model_module": "@jupyter-widgets/base",
          "model_name": "LayoutModel",
          "model_module_version": "1.2.0",
          "state": {
            "_model_module": "@jupyter-widgets/base",
            "_model_module_version": "1.2.0",
            "_model_name": "LayoutModel",
            "_view_count": null,
            "_view_module": "@jupyter-widgets/base",
            "_view_module_version": "1.2.0",
            "_view_name": "LayoutView",
            "align_content": null,
            "align_items": null,
            "align_self": null,
            "border": null,
            "bottom": null,
            "display": null,
            "flex": null,
            "flex_flow": null,
            "grid_area": null,
            "grid_auto_columns": null,
            "grid_auto_flow": null,
            "grid_auto_rows": null,
            "grid_column": null,
            "grid_gap": null,
            "grid_row": null,
            "grid_template_areas": null,
            "grid_template_columns": null,
            "grid_template_rows": null,
            "height": null,
            "justify_content": null,
            "justify_items": null,
            "left": null,
            "margin": null,
            "max_height": null,
            "max_width": null,
            "min_height": null,
            "min_width": null,
            "object_fit": null,
            "object_position": null,
            "order": null,
            "overflow": null,
            "overflow_x": null,
            "overflow_y": null,
            "padding": null,
            "right": null,
            "top": null,
            "visibility": null,
            "width": null
          }
        },
        "ecbed9eedbd54d6bb3e4549934eb349d": {
          "model_module": "@jupyter-widgets/base",
          "model_name": "LayoutModel",
          "model_module_version": "1.2.0",
          "state": {
            "_model_module": "@jupyter-widgets/base",
            "_model_module_version": "1.2.0",
            "_model_name": "LayoutModel",
            "_view_count": null,
            "_view_module": "@jupyter-widgets/base",
            "_view_module_version": "1.2.0",
            "_view_name": "LayoutView",
            "align_content": null,
            "align_items": null,
            "align_self": null,
            "border": null,
            "bottom": null,
            "display": null,
            "flex": null,
            "flex_flow": null,
            "grid_area": null,
            "grid_auto_columns": null,
            "grid_auto_flow": null,
            "grid_auto_rows": null,
            "grid_column": null,
            "grid_gap": null,
            "grid_row": null,
            "grid_template_areas": null,
            "grid_template_columns": null,
            "grid_template_rows": null,
            "height": null,
            "justify_content": null,
            "justify_items": null,
            "left": null,
            "margin": null,
            "max_height": null,
            "max_width": null,
            "min_height": null,
            "min_width": null,
            "object_fit": null,
            "object_position": null,
            "order": null,
            "overflow": null,
            "overflow_x": null,
            "overflow_y": null,
            "padding": null,
            "right": null,
            "top": null,
            "visibility": null,
            "width": null
          }
        },
        "a7c9c704829b4da3b57eefade17c2d08": {
          "model_module": "@jupyter-widgets/controls",
          "model_name": "DescriptionStyleModel",
          "model_module_version": "1.5.0",
          "state": {
            "_model_module": "@jupyter-widgets/controls",
            "_model_module_version": "1.5.0",
            "_model_name": "DescriptionStyleModel",
            "_view_count": null,
            "_view_module": "@jupyter-widgets/base",
            "_view_module_version": "1.2.0",
            "_view_name": "StyleView",
            "description_width": ""
          }
        },
        "32f94c697b054919a510a2cb279a975b": {
          "model_module": "@jupyter-widgets/base",
          "model_name": "LayoutModel",
          "model_module_version": "1.2.0",
          "state": {
            "_model_module": "@jupyter-widgets/base",
            "_model_module_version": "1.2.0",
            "_model_name": "LayoutModel",
            "_view_count": null,
            "_view_module": "@jupyter-widgets/base",
            "_view_module_version": "1.2.0",
            "_view_name": "LayoutView",
            "align_content": null,
            "align_items": null,
            "align_self": null,
            "border": null,
            "bottom": null,
            "display": null,
            "flex": null,
            "flex_flow": null,
            "grid_area": null,
            "grid_auto_columns": null,
            "grid_auto_flow": null,
            "grid_auto_rows": null,
            "grid_column": null,
            "grid_gap": null,
            "grid_row": null,
            "grid_template_areas": null,
            "grid_template_columns": null,
            "grid_template_rows": null,
            "height": null,
            "justify_content": null,
            "justify_items": null,
            "left": null,
            "margin": null,
            "max_height": null,
            "max_width": null,
            "min_height": null,
            "min_width": null,
            "object_fit": null,
            "object_position": null,
            "order": null,
            "overflow": null,
            "overflow_x": null,
            "overflow_y": null,
            "padding": null,
            "right": null,
            "top": null,
            "visibility": null,
            "width": null
          }
        },
        "4f70fe85bf0e4623a2db98d95199675d": {
          "model_module": "@jupyter-widgets/controls",
          "model_name": "ProgressStyleModel",
          "model_module_version": "1.5.0",
          "state": {
            "_model_module": "@jupyter-widgets/controls",
            "_model_module_version": "1.5.0",
            "_model_name": "ProgressStyleModel",
            "_view_count": null,
            "_view_module": "@jupyter-widgets/base",
            "_view_module_version": "1.2.0",
            "_view_name": "StyleView",
            "bar_color": null,
            "description_width": ""
          }
        },
        "d68670699a314263a18edaf9c0428f4c": {
          "model_module": "@jupyter-widgets/base",
          "model_name": "LayoutModel",
          "model_module_version": "1.2.0",
          "state": {
            "_model_module": "@jupyter-widgets/base",
            "_model_module_version": "1.2.0",
            "_model_name": "LayoutModel",
            "_view_count": null,
            "_view_module": "@jupyter-widgets/base",
            "_view_module_version": "1.2.0",
            "_view_name": "LayoutView",
            "align_content": null,
            "align_items": null,
            "align_self": null,
            "border": null,
            "bottom": null,
            "display": null,
            "flex": null,
            "flex_flow": null,
            "grid_area": null,
            "grid_auto_columns": null,
            "grid_auto_flow": null,
            "grid_auto_rows": null,
            "grid_column": null,
            "grid_gap": null,
            "grid_row": null,
            "grid_template_areas": null,
            "grid_template_columns": null,
            "grid_template_rows": null,
            "height": null,
            "justify_content": null,
            "justify_items": null,
            "left": null,
            "margin": null,
            "max_height": null,
            "max_width": null,
            "min_height": null,
            "min_width": null,
            "object_fit": null,
            "object_position": null,
            "order": null,
            "overflow": null,
            "overflow_x": null,
            "overflow_y": null,
            "padding": null,
            "right": null,
            "top": null,
            "visibility": null,
            "width": null
          }
        },
        "abae0b112bc543d7ac6c78cbb26eb09f": {
          "model_module": "@jupyter-widgets/controls",
          "model_name": "DescriptionStyleModel",
          "model_module_version": "1.5.0",
          "state": {
            "_model_module": "@jupyter-widgets/controls",
            "_model_module_version": "1.5.0",
            "_model_name": "DescriptionStyleModel",
            "_view_count": null,
            "_view_module": "@jupyter-widgets/base",
            "_view_module_version": "1.2.0",
            "_view_name": "StyleView",
            "description_width": ""
          }
        },
        "6d2950fdef7e4d098330d54a9f0e77d0": {
          "model_module": "@jupyter-widgets/controls",
          "model_name": "HBoxModel",
          "model_module_version": "1.5.0",
          "state": {
            "_dom_classes": [],
            "_model_module": "@jupyter-widgets/controls",
            "_model_module_version": "1.5.0",
            "_model_name": "HBoxModel",
            "_view_count": null,
            "_view_module": "@jupyter-widgets/controls",
            "_view_module_version": "1.5.0",
            "_view_name": "HBoxView",
            "box_style": "",
            "children": [
              "IPY_MODEL_8728411e1df34ddebaa11e875051809a",
              "IPY_MODEL_7a6271a99f824b32b9881f202049ab76",
              "IPY_MODEL_9234a03d76344d439c81c477402018a5"
            ],
            "layout": "IPY_MODEL_dd8db90c02cb4c58957f9a5ef7d7377d"
          }
        },
        "8728411e1df34ddebaa11e875051809a": {
          "model_module": "@jupyter-widgets/controls",
          "model_name": "HTMLModel",
          "model_module_version": "1.5.0",
          "state": {
            "_dom_classes": [],
            "_model_module": "@jupyter-widgets/controls",
            "_model_module_version": "1.5.0",
            "_model_name": "HTMLModel",
            "_view_count": null,
            "_view_module": "@jupyter-widgets/controls",
            "_view_module_version": "1.5.0",
            "_view_name": "HTMLView",
            "description": "",
            "description_tooltip": null,
            "layout": "IPY_MODEL_dac844049bc242df87c75f64f95e88b5",
            "placeholder": "​",
            "style": "IPY_MODEL_efb3b2360d31498a8a57f0ed05d41897",
            "value": "Downloading https://raw.githubusercontent.com/stanfordnlp/stanza-resources/main/resources_1.5.0.json: "
          }
        },
        "7a6271a99f824b32b9881f202049ab76": {
          "model_module": "@jupyter-widgets/controls",
          "model_name": "FloatProgressModel",
          "model_module_version": "1.5.0",
          "state": {
            "_dom_classes": [],
            "_model_module": "@jupyter-widgets/controls",
            "_model_module_version": "1.5.0",
            "_model_name": "FloatProgressModel",
            "_view_count": null,
            "_view_module": "@jupyter-widgets/controls",
            "_view_module_version": "1.5.0",
            "_view_name": "ProgressView",
            "bar_style": "success",
            "description": "",
            "description_tooltip": null,
            "layout": "IPY_MODEL_cc9ca1910535492b8282a7f1b3aa470d",
            "max": 29910,
            "min": 0,
            "orientation": "horizontal",
            "style": "IPY_MODEL_c0f48fd0a621445390978adce0972666",
            "value": 29910
          }
        },
        "9234a03d76344d439c81c477402018a5": {
          "model_module": "@jupyter-widgets/controls",
          "model_name": "HTMLModel",
          "model_module_version": "1.5.0",
          "state": {
            "_dom_classes": [],
            "_model_module": "@jupyter-widgets/controls",
            "_model_module_version": "1.5.0",
            "_model_name": "HTMLModel",
            "_view_count": null,
            "_view_module": "@jupyter-widgets/controls",
            "_view_module_version": "1.5.0",
            "_view_name": "HTMLView",
            "description": "",
            "description_tooltip": null,
            "layout": "IPY_MODEL_732e99691f29465fb1f3ea04572ac428",
            "placeholder": "​",
            "style": "IPY_MODEL_af4d80409cdd4469b154e09a0bee0b5f",
            "value": " 200k/? [00:00&lt;00:00, 6.68MB/s]"
          }
        },
        "dd8db90c02cb4c58957f9a5ef7d7377d": {
          "model_module": "@jupyter-widgets/base",
          "model_name": "LayoutModel",
          "model_module_version": "1.2.0",
          "state": {
            "_model_module": "@jupyter-widgets/base",
            "_model_module_version": "1.2.0",
            "_model_name": "LayoutModel",
            "_view_count": null,
            "_view_module": "@jupyter-widgets/base",
            "_view_module_version": "1.2.0",
            "_view_name": "LayoutView",
            "align_content": null,
            "align_items": null,
            "align_self": null,
            "border": null,
            "bottom": null,
            "display": null,
            "flex": null,
            "flex_flow": null,
            "grid_area": null,
            "grid_auto_columns": null,
            "grid_auto_flow": null,
            "grid_auto_rows": null,
            "grid_column": null,
            "grid_gap": null,
            "grid_row": null,
            "grid_template_areas": null,
            "grid_template_columns": null,
            "grid_template_rows": null,
            "height": null,
            "justify_content": null,
            "justify_items": null,
            "left": null,
            "margin": null,
            "max_height": null,
            "max_width": null,
            "min_height": null,
            "min_width": null,
            "object_fit": null,
            "object_position": null,
            "order": null,
            "overflow": null,
            "overflow_x": null,
            "overflow_y": null,
            "padding": null,
            "right": null,
            "top": null,
            "visibility": null,
            "width": null
          }
        },
        "dac844049bc242df87c75f64f95e88b5": {
          "model_module": "@jupyter-widgets/base",
          "model_name": "LayoutModel",
          "model_module_version": "1.2.0",
          "state": {
            "_model_module": "@jupyter-widgets/base",
            "_model_module_version": "1.2.0",
            "_model_name": "LayoutModel",
            "_view_count": null,
            "_view_module": "@jupyter-widgets/base",
            "_view_module_version": "1.2.0",
            "_view_name": "LayoutView",
            "align_content": null,
            "align_items": null,
            "align_self": null,
            "border": null,
            "bottom": null,
            "display": null,
            "flex": null,
            "flex_flow": null,
            "grid_area": null,
            "grid_auto_columns": null,
            "grid_auto_flow": null,
            "grid_auto_rows": null,
            "grid_column": null,
            "grid_gap": null,
            "grid_row": null,
            "grid_template_areas": null,
            "grid_template_columns": null,
            "grid_template_rows": null,
            "height": null,
            "justify_content": null,
            "justify_items": null,
            "left": null,
            "margin": null,
            "max_height": null,
            "max_width": null,
            "min_height": null,
            "min_width": null,
            "object_fit": null,
            "object_position": null,
            "order": null,
            "overflow": null,
            "overflow_x": null,
            "overflow_y": null,
            "padding": null,
            "right": null,
            "top": null,
            "visibility": null,
            "width": null
          }
        },
        "efb3b2360d31498a8a57f0ed05d41897": {
          "model_module": "@jupyter-widgets/controls",
          "model_name": "DescriptionStyleModel",
          "model_module_version": "1.5.0",
          "state": {
            "_model_module": "@jupyter-widgets/controls",
            "_model_module_version": "1.5.0",
            "_model_name": "DescriptionStyleModel",
            "_view_count": null,
            "_view_module": "@jupyter-widgets/base",
            "_view_module_version": "1.2.0",
            "_view_name": "StyleView",
            "description_width": ""
          }
        },
        "cc9ca1910535492b8282a7f1b3aa470d": {
          "model_module": "@jupyter-widgets/base",
          "model_name": "LayoutModel",
          "model_module_version": "1.2.0",
          "state": {
            "_model_module": "@jupyter-widgets/base",
            "_model_module_version": "1.2.0",
            "_model_name": "LayoutModel",
            "_view_count": null,
            "_view_module": "@jupyter-widgets/base",
            "_view_module_version": "1.2.0",
            "_view_name": "LayoutView",
            "align_content": null,
            "align_items": null,
            "align_self": null,
            "border": null,
            "bottom": null,
            "display": null,
            "flex": null,
            "flex_flow": null,
            "grid_area": null,
            "grid_auto_columns": null,
            "grid_auto_flow": null,
            "grid_auto_rows": null,
            "grid_column": null,
            "grid_gap": null,
            "grid_row": null,
            "grid_template_areas": null,
            "grid_template_columns": null,
            "grid_template_rows": null,
            "height": null,
            "justify_content": null,
            "justify_items": null,
            "left": null,
            "margin": null,
            "max_height": null,
            "max_width": null,
            "min_height": null,
            "min_width": null,
            "object_fit": null,
            "object_position": null,
            "order": null,
            "overflow": null,
            "overflow_x": null,
            "overflow_y": null,
            "padding": null,
            "right": null,
            "top": null,
            "visibility": null,
            "width": null
          }
        },
        "c0f48fd0a621445390978adce0972666": {
          "model_module": "@jupyter-widgets/controls",
          "model_name": "ProgressStyleModel",
          "model_module_version": "1.5.0",
          "state": {
            "_model_module": "@jupyter-widgets/controls",
            "_model_module_version": "1.5.0",
            "_model_name": "ProgressStyleModel",
            "_view_count": null,
            "_view_module": "@jupyter-widgets/base",
            "_view_module_version": "1.2.0",
            "_view_name": "StyleView",
            "bar_color": null,
            "description_width": ""
          }
        },
        "732e99691f29465fb1f3ea04572ac428": {
          "model_module": "@jupyter-widgets/base",
          "model_name": "LayoutModel",
          "model_module_version": "1.2.0",
          "state": {
            "_model_module": "@jupyter-widgets/base",
            "_model_module_version": "1.2.0",
            "_model_name": "LayoutModel",
            "_view_count": null,
            "_view_module": "@jupyter-widgets/base",
            "_view_module_version": "1.2.0",
            "_view_name": "LayoutView",
            "align_content": null,
            "align_items": null,
            "align_self": null,
            "border": null,
            "bottom": null,
            "display": null,
            "flex": null,
            "flex_flow": null,
            "grid_area": null,
            "grid_auto_columns": null,
            "grid_auto_flow": null,
            "grid_auto_rows": null,
            "grid_column": null,
            "grid_gap": null,
            "grid_row": null,
            "grid_template_areas": null,
            "grid_template_columns": null,
            "grid_template_rows": null,
            "height": null,
            "justify_content": null,
            "justify_items": null,
            "left": null,
            "margin": null,
            "max_height": null,
            "max_width": null,
            "min_height": null,
            "min_width": null,
            "object_fit": null,
            "object_position": null,
            "order": null,
            "overflow": null,
            "overflow_x": null,
            "overflow_y": null,
            "padding": null,
            "right": null,
            "top": null,
            "visibility": null,
            "width": null
          }
        },
        "af4d80409cdd4469b154e09a0bee0b5f": {
          "model_module": "@jupyter-widgets/controls",
          "model_name": "DescriptionStyleModel",
          "model_module_version": "1.5.0",
          "state": {
            "_model_module": "@jupyter-widgets/controls",
            "_model_module_version": "1.5.0",
            "_model_name": "DescriptionStyleModel",
            "_view_count": null,
            "_view_module": "@jupyter-widgets/base",
            "_view_module_version": "1.2.0",
            "_view_name": "StyleView",
            "description_width": ""
          }
        }
      }
    }
  },
  "cells": [
    {
      "cell_type": "code",
      "source": [
        "# Importando modulos necessarios\n",
        "import nltk\n",
        "import nltk.data\n",
        "\n",
        "nltk.download('punkt')"
      ],
      "metadata": {
        "colab": {
          "base_uri": "https://localhost:8080/"
        },
        "id": "1zSb7MMr8jBC",
        "outputId": "d39ee75a-c6ec-4770-9e10-3d1f803c19fa"
      },
      "execution_count": 6,
      "outputs": [
        {
          "output_type": "stream",
          "name": "stderr",
          "text": [
            "[nltk_data] Downloading package punkt to /root/nltk_data...\n",
            "[nltk_data]   Unzipping tokenizers/punkt.zip.\n"
          ]
        },
        {
          "output_type": "execute_result",
          "data": {
            "text/plain": [
              "True"
            ]
          },
          "metadata": {},
          "execution_count": 6
        }
      ]
    },
    {
      "cell_type": "code",
      "source": [
        "grande_sertao_text = 'Sou só o sr. sertanejo, nessas altas ideias navego mal. Sou muito pobre coitado. Inveja minha pura é de uns conforme o senhor, com toda leitura e suma doutoração.'"
      ],
      "metadata": {
        "id": "CgkGwYMs8pjT"
      },
      "execution_count": 13,
      "outputs": []
    },
    {
      "cell_type": "code",
      "source": [
        "# Tokenização de sentenças em pt-br\n",
        "from nltk.tokenize import sent_tokenize\n",
        "\n",
        "sentence_list = sent_tokenize(grande_sertao_text)\n",
        "sentence_list"
      ],
      "metadata": {
        "colab": {
          "base_uri": "https://localhost:8080/"
        },
        "id": "0l_BwSCj_MV6",
        "outputId": "44373d5e-9e2f-43dd-ff03-9d49101d9b33"
      },
      "execution_count": 14,
      "outputs": [
        {
          "output_type": "execute_result",
          "data": {
            "text/plain": [
              "['Sou só o sr. sertanejo, nessas altas ideias navego mal.',\n",
              " 'Sou muito pobre coitado.',\n",
              " 'Inveja minha pura é de uns conforme o senhor, com toda leitura e suma doutoração.']"
            ]
          },
          "metadata": {},
          "execution_count": 14
        }
      ]
    },
    {
      "cell_type": "code",
      "source": [
        "# Carregando tokenizer PUNKT adaptado para lingua portuguesa\n",
        "ptbr_sentence = nltk.data.load('tokenizers/punkt/PY3/portuguese.pickle')\n",
        "\n",
        "# Tokenização de sentenças em pt-br\n",
        "sentence_list = ptbr_sentence.tokenize(grande_sertao_text)\n",
        "sentence_list"
      ],
      "metadata": {
        "colab": {
          "base_uri": "https://localhost:8080/"
        },
        "id": "kDKu6P5f_c-h",
        "outputId": "7ba18b5f-20fd-44c0-cc40-960610a02e65"
      },
      "execution_count": 16,
      "outputs": [
        {
          "output_type": "execute_result",
          "data": {
            "text/plain": [
              "['Sou só o sr. sertanejo, nessas altas ideias navego mal.',\n",
              " 'Sou muito pobre coitado.',\n",
              " 'Inveja minha pura é de uns conforme o senhor, com toda leitura e suma doutoração.']"
            ]
          },
          "metadata": {},
          "execution_count": 16
        }
      ]
    },
    {
      "cell_type": "code",
      "source": [
        "# Tokenização de palavras\n",
        "from nltk.tokenize import word_tokenize\n",
        "\n",
        "first_sentence = word_tokenize(sentence_list[0])\n",
        "print(first_sentence)"
      ],
      "metadata": {
        "colab": {
          "base_uri": "https://localhost:8080/"
        },
        "id": "GWPjwZymBNop",
        "outputId": "9d2eee7b-48e8-4f77-ba02-080704aac8cf"
      },
      "execution_count": 19,
      "outputs": [
        {
          "output_type": "stream",
          "name": "stdout",
          "text": [
            "['Sou', 'só', 'o', 'sr.', 'sertanejo', ',', 'nessas', 'altas', 'ideias', 'navego', 'mal', '.']\n"
          ]
        }
      ]
    },
    {
      "cell_type": "code",
      "source": [
        "# Tokenização utilizando expressões regulares\n",
        "from nltk.tokenize import RegexpTokenizer\n",
        "\n",
        "regex_tker = RegexpTokenizer('[\\w]+[\\.]*')\n",
        "print(regex_tker.tokenize(sentence_list[0]))"
      ],
      "metadata": {
        "colab": {
          "base_uri": "https://localhost:8080/"
        },
        "id": "epqOvEDGBfLR",
        "outputId": "067a2a3d-d01c-4b88-dcd8-7622186be0f7"
      },
      "execution_count": 20,
      "outputs": [
        {
          "output_type": "stream",
          "name": "stdout",
          "text": [
            "['Sou', 'só', 'o', 'sr.', 'sertanejo', 'nessas', 'altas', 'ideias', 'navego', 'mal.']\n"
          ]
        }
      ]
    },
    {
      "cell_type": "code",
      "source": [
        "outra_sentenca = 'Bons pães de queijo custam $2.50\\n em Belo Horizonte. Por favor compre\\ncinco.\\n\\nObrigado.'\n",
        "\n",
        "tokenizer = RegexpTokenizer('\\w+|\\$[\\d\\.]+|\\S+')\n",
        "print(tokenizer.tokenize(outra_sentenca))"
      ],
      "metadata": {
        "colab": {
          "base_uri": "https://localhost:8080/"
        },
        "id": "fAjnlbn2CSOJ",
        "outputId": "f7e937c5-84ce-476e-a60d-de4436f6cc08"
      },
      "execution_count": 21,
      "outputs": [
        {
          "output_type": "stream",
          "name": "stdout",
          "text": [
            "['Bons', 'pães', 'de', 'queijo', 'custam', '$2.50', 'em', 'Belo', 'Horizonte', '.', 'Por', 'favor', 'compre', 'cinco', '.', 'Obrigado', '.']\n"
          ]
        }
      ]
    },
    {
      "cell_type": "code",
      "source": [
        "# O dicionário de sinonimos (thesaurus) funciona bem no inglês\n",
        "from nltk.corpus import wordnet\n",
        "\n",
        "nltk.download('wordnet')"
      ],
      "metadata": {
        "colab": {
          "base_uri": "https://localhost:8080/"
        },
        "id": "kV8FQUepM_C4",
        "outputId": "585cd2cc-a67f-4b32-ec4a-b36db79369b7"
      },
      "execution_count": 22,
      "outputs": [
        {
          "output_type": "stream",
          "name": "stderr",
          "text": [
            "[nltk_data] Downloading package wordnet to /root/nltk_data...\n"
          ]
        },
        {
          "output_type": "execute_result",
          "data": {
            "text/plain": [
              "True"
            ]
          },
          "metadata": {},
          "execution_count": 22
        }
      ]
    },
    {
      "cell_type": "code",
      "source": [
        "word_synset = wordnet.synsets('study')\n",
        "word_synset"
      ],
      "metadata": {
        "colab": {
          "base_uri": "https://localhost:8080/"
        },
        "id": "AZGI51SyTytN",
        "outputId": "7c7cc35c-ad84-45d4-976f-7aa25eb604a8"
      },
      "execution_count": 24,
      "outputs": [
        {
          "output_type": "execute_result",
          "data": {
            "text/plain": [
              "[Synset('survey.n.01'),\n",
              " Synset('study.n.02'),\n",
              " Synset('report.n.01'),\n",
              " Synset('study.n.04'),\n",
              " Synset('study.n.05'),\n",
              " Synset('discipline.n.01'),\n",
              " Synset('sketch.n.01'),\n",
              " Synset('cogitation.n.02'),\n",
              " Synset('study.n.09'),\n",
              " Synset('study.n.10'),\n",
              " Synset('analyze.v.01'),\n",
              " Synset('study.v.02'),\n",
              " Synset('study.v.03'),\n",
              " Synset('learn.v.04'),\n",
              " Synset('study.v.05'),\n",
              " Synset('study.v.06')]"
            ]
          },
          "metadata": {},
          "execution_count": 24
        }
      ]
    },
    {
      "cell_type": "code",
      "source": [
        "for ws in word_synset:\n",
        "  print(ws, ws.definition())"
      ],
      "metadata": {
        "colab": {
          "base_uri": "https://localhost:8080/"
        },
        "id": "FrdYZVuST4zV",
        "outputId": "0eb99839-7514-4e74-e55a-feaf9486382e"
      },
      "execution_count": 25,
      "outputs": [
        {
          "output_type": "stream",
          "name": "stdout",
          "text": [
            "Synset('survey.n.01') a detailed critical inspection\n",
            "Synset('study.n.02') applying the mind to learning and understanding a subject (especially by reading)\n",
            "Synset('report.n.01') a written document describing the findings of some individual or group\n",
            "Synset('study.n.04') a state of deep mental absorption\n",
            "Synset('study.n.05') a room used for reading and writing and studying\n",
            "Synset('discipline.n.01') a branch of knowledge\n",
            "Synset('sketch.n.01') preliminary drawing for later elaboration\n",
            "Synset('cogitation.n.02') attentive consideration and meditation\n",
            "Synset('study.n.09') someone who memorizes quickly and easily (as the lines for a part in a play)\n",
            "Synset('study.n.10') a composition intended to develop one aspect of the performer's technique\n",
            "Synset('analyze.v.01') consider in detail and subject to an analysis in order to discover essential features or meaning\n",
            "Synset('study.v.02') be a student; follow a course of study; be enrolled at an institute of learning\n",
            "Synset('study.v.03') give careful consideration to\n",
            "Synset('learn.v.04') be a student of a certain subject\n",
            "Synset('study.v.05') learn by reading books\n",
            "Synset('study.v.06') think intently and at length, as for spiritual purposes\n"
          ]
        }
      ]
    },
    {
      "cell_type": "code",
      "source": [
        "# Obendo algoritmo de stemming para ptg-br\n",
        "nltk.download('rslp')\n",
        "\n",
        "stemmer_porguese = nltk.stem.RSLPStemmer()"
      ],
      "metadata": {
        "colab": {
          "base_uri": "https://localhost:8080/"
        },
        "id": "y8iS_e2iUekd",
        "outputId": "1a8bafc2-7506-4a15-f2ad-9cdc0a35d260"
      },
      "execution_count": 27,
      "outputs": [
        {
          "output_type": "stream",
          "name": "stderr",
          "text": [
            "[nltk_data] Downloading package rslp to /root/nltk_data...\n",
            "[nltk_data]   Package rslp is already up-to-date!\n"
          ]
        }
      ]
    },
    {
      "cell_type": "code",
      "source": [
        "print(stemmer_porguese.stem('copiar'))"
      ],
      "metadata": {
        "colab": {
          "base_uri": "https://localhost:8080/"
        },
        "id": "Z_dZCgLbVKEW",
        "outputId": "fad62513-3ed1-4c01-980b-e5fdee72f605"
      },
      "execution_count": 28,
      "outputs": [
        {
          "output_type": "stream",
          "name": "stdout",
          "text": [
            "copi\n"
          ]
        }
      ]
    },
    {
      "cell_type": "code",
      "source": [
        "print(stemmer_porguese.stem('casarão'))"
      ],
      "metadata": {
        "colab": {
          "base_uri": "https://localhost:8080/"
        },
        "id": "VJm-S4aiVQ9l",
        "outputId": "c2dd280b-dbea-4c66-f492-00fd346ba99d"
      },
      "execution_count": 29,
      "outputs": [
        {
          "output_type": "stream",
          "name": "stdout",
          "text": [
            "cas\n"
          ]
        }
      ]
    },
    {
      "cell_type": "code",
      "source": [
        "# kit de ferramentas Python PNL\n",
        "!pip install stanza"
      ],
      "metadata": {
        "colab": {
          "base_uri": "https://localhost:8080/"
        },
        "id": "2juZniq0VUAU",
        "outputId": "ad3a2ae3-2813-432b-e9dd-b02b4278adfe"
      },
      "execution_count": 30,
      "outputs": [
        {
          "output_type": "stream",
          "name": "stdout",
          "text": [
            "Looking in indexes: https://pypi.org/simple, https://us-python.pkg.dev/colab-wheels/public/simple/\n",
            "Collecting stanza\n",
            "  Downloading stanza-1.5.0-py3-none-any.whl (802 kB)\n",
            "\u001b[2K     \u001b[90m━━━━━━━━━━━━━━━━━━━━━━━━━━━━━━━━━━━━━━\u001b[0m \u001b[32m802.5/802.5 kB\u001b[0m \u001b[31m31.3 MB/s\u001b[0m eta \u001b[36m0:00:00\u001b[0m\n",
            "\u001b[?25hRequirement already satisfied: numpy in /usr/local/lib/python3.10/dist-packages (from stanza) (1.22.4)\n",
            "Requirement already satisfied: tqdm in /usr/local/lib/python3.10/dist-packages (from stanza) (4.65.0)\n",
            "Requirement already satisfied: protobuf in /usr/local/lib/python3.10/dist-packages (from stanza) (3.20.3)\n",
            "Requirement already satisfied: torch>=1.3.0 in /usr/local/lib/python3.10/dist-packages (from stanza) (2.0.0+cu118)\n",
            "Requirement already satisfied: requests in /usr/local/lib/python3.10/dist-packages (from stanza) (2.27.1)\n",
            "Requirement already satisfied: six in /usr/local/lib/python3.10/dist-packages (from stanza) (1.16.0)\n",
            "Collecting emoji\n",
            "  Downloading emoji-2.2.0.tar.gz (240 kB)\n",
            "\u001b[2K     \u001b[90m━━━━━━━━━━━━━━━━━━━━━━━━━━━━━━━━━━━━━━\u001b[0m \u001b[32m240.9/240.9 kB\u001b[0m \u001b[31m21.1 MB/s\u001b[0m eta \u001b[36m0:00:00\u001b[0m\n",
            "\u001b[?25h  Preparing metadata (setup.py) ... \u001b[?25l\u001b[?25hdone\n",
            "Requirement already satisfied: typing-extensions in /usr/local/lib/python3.10/dist-packages (from torch>=1.3.0->stanza) (4.5.0)\n",
            "Requirement already satisfied: networkx in /usr/local/lib/python3.10/dist-packages (from torch>=1.3.0->stanza) (3.1)\n",
            "Requirement already satisfied: sympy in /usr/local/lib/python3.10/dist-packages (from torch>=1.3.0->stanza) (1.11.1)\n",
            "Requirement already satisfied: filelock in /usr/local/lib/python3.10/dist-packages (from torch>=1.3.0->stanza) (3.12.0)\n",
            "Requirement already satisfied: jinja2 in /usr/local/lib/python3.10/dist-packages (from torch>=1.3.0->stanza) (3.1.2)\n",
            "Requirement already satisfied: triton==2.0.0 in /usr/local/lib/python3.10/dist-packages (from torch>=1.3.0->stanza) (2.0.0)\n",
            "Requirement already satisfied: cmake in /usr/local/lib/python3.10/dist-packages (from triton==2.0.0->torch>=1.3.0->stanza) (3.25.2)\n",
            "Requirement already satisfied: lit in /usr/local/lib/python3.10/dist-packages (from triton==2.0.0->torch>=1.3.0->stanza) (16.0.2)\n",
            "Requirement already satisfied: idna<4,>=2.5 in /usr/local/lib/python3.10/dist-packages (from requests->stanza) (3.4)\n",
            "Requirement already satisfied: certifi>=2017.4.17 in /usr/local/lib/python3.10/dist-packages (from requests->stanza) (2022.12.7)\n",
            "Requirement already satisfied: charset-normalizer~=2.0.0 in /usr/local/lib/python3.10/dist-packages (from requests->stanza) (2.0.12)\n",
            "Requirement already satisfied: urllib3<1.27,>=1.21.1 in /usr/local/lib/python3.10/dist-packages (from requests->stanza) (1.26.15)\n",
            "Requirement already satisfied: MarkupSafe>=2.0 in /usr/local/lib/python3.10/dist-packages (from jinja2->torch>=1.3.0->stanza) (2.1.2)\n",
            "Requirement already satisfied: mpmath>=0.19 in /usr/local/lib/python3.10/dist-packages (from sympy->torch>=1.3.0->stanza) (1.3.0)\n",
            "Building wheels for collected packages: emoji\n",
            "  Building wheel for emoji (setup.py) ... \u001b[?25l\u001b[?25hdone\n",
            "  Created wheel for emoji: filename=emoji-2.2.0-py3-none-any.whl size=234926 sha256=39ede14e4bf6da7de13573a2416d177343248e70fc4c010ce398af81f0fa938f\n",
            "  Stored in directory: /root/.cache/pip/wheels/02/3d/88/51a592b9ad17e7899126563698b4e3961983ebe85747228ba6\n",
            "Successfully built emoji\n",
            "Installing collected packages: emoji, stanza\n",
            "Successfully installed emoji-2.2.0 stanza-1.5.0\n"
          ]
        }
      ]
    },
    {
      "cell_type": "code",
      "source": [
        "import stanza\n",
        "import random"
      ],
      "metadata": {
        "id": "ooVnZeLTVWy8"
      },
      "execution_count": 31,
      "outputs": []
    },
    {
      "cell_type": "code",
      "source": [
        "stanza.download('pt')\n",
        "nlp = stanza.Pipeline('pt')"
      ],
      "metadata": {
        "colab": {
          "base_uri": "https://localhost:8080/",
          "height": 512,
          "referenced_widgets": [
            "6505b2bacdef494cb173627e5ddf58a3",
            "50b94aeb62c745fb8f3c84987ccc557f",
            "558f4e9d903546beba1ac8d745f5dab2",
            "84750d6b9dcd4231babb98be73f80896",
            "bede94688f34496fb6a89cc32f8b8aff",
            "92e86e4a331a4637b4e98c914cfaca4b",
            "5e968fe7d828474986f9feb0d4d89231",
            "04cd439dbbe649f8ab79680c49f4034f",
            "4b1244b5e34b471b858a1f97d1c918f5",
            "7336c335c9264266bd73bbbe42125173",
            "e36326bb6a0c49aba5d2dbd93b556719",
            "f47632d40a674e278a010f970218358c",
            "6644871c2e3847f9aa8af7664b5d97d8",
            "05e06bf0599941e9b7e9cf8e9bf72266",
            "be4e7d6cb4ee4cc8a16dbe621bd7eb02",
            "187b81f1e4334d499c037e45c18cc760",
            "ecbed9eedbd54d6bb3e4549934eb349d",
            "a7c9c704829b4da3b57eefade17c2d08",
            "32f94c697b054919a510a2cb279a975b",
            "4f70fe85bf0e4623a2db98d95199675d",
            "d68670699a314263a18edaf9c0428f4c",
            "abae0b112bc543d7ac6c78cbb26eb09f",
            "6d2950fdef7e4d098330d54a9f0e77d0",
            "8728411e1df34ddebaa11e875051809a",
            "7a6271a99f824b32b9881f202049ab76",
            "9234a03d76344d439c81c477402018a5",
            "dd8db90c02cb4c58957f9a5ef7d7377d",
            "dac844049bc242df87c75f64f95e88b5",
            "efb3b2360d31498a8a57f0ed05d41897",
            "cc9ca1910535492b8282a7f1b3aa470d",
            "c0f48fd0a621445390978adce0972666",
            "732e99691f29465fb1f3ea04572ac428",
            "af4d80409cdd4469b154e09a0bee0b5f"
          ]
        },
        "id": "TI99WyMkVsK9",
        "outputId": "1bde38e4-809a-4a48-fb2c-dd580735661e"
      },
      "execution_count": 32,
      "outputs": [
        {
          "output_type": "display_data",
          "data": {
            "text/plain": [
              "Downloading https://raw.githubusercontent.com/stanfordnlp/stanza-resources/main/resources_1.5.0.json:   0%|   …"
            ],
            "application/vnd.jupyter.widget-view+json": {
              "version_major": 2,
              "version_minor": 0,
              "model_id": "6505b2bacdef494cb173627e5ddf58a3"
            }
          },
          "metadata": {}
        },
        {
          "output_type": "stream",
          "name": "stderr",
          "text": [
            "INFO:stanza:Downloading default packages for language: pt (Portuguese) ...\n"
          ]
        },
        {
          "output_type": "display_data",
          "data": {
            "text/plain": [
              "Downloading https://huggingface.co/stanfordnlp/stanza-pt/resolve/v1.5.0/models/default.zip:   0%|          | 0…"
            ],
            "application/vnd.jupyter.widget-view+json": {
              "version_major": 2,
              "version_minor": 0,
              "model_id": "f47632d40a674e278a010f970218358c"
            }
          },
          "metadata": {}
        },
        {
          "output_type": "stream",
          "name": "stderr",
          "text": [
            "INFO:stanza:Finished downloading models and saved to /root/stanza_resources.\n",
            "INFO:stanza:Checking for updates to resources.json in case models have been updated.  Note: this behavior can be turned off with download_method=None or download_method=DownloadMethod.REUSE_RESOURCES\n"
          ]
        },
        {
          "output_type": "display_data",
          "data": {
            "text/plain": [
              "Downloading https://raw.githubusercontent.com/stanfordnlp/stanza-resources/main/resources_1.5.0.json:   0%|   …"
            ],
            "application/vnd.jupyter.widget-view+json": {
              "version_major": 2,
              "version_minor": 0,
              "model_id": "6d2950fdef7e4d098330d54a9f0e77d0"
            }
          },
          "metadata": {}
        },
        {
          "output_type": "stream",
          "name": "stderr",
          "text": [
            "INFO:stanza:Loading these models for language: pt (Portuguese):\n",
            "==========================\n",
            "| Processor    | Package |\n",
            "--------------------------\n",
            "| tokenize     | bosque  |\n",
            "| mwt          | bosque  |\n",
            "| pos          | bosque  |\n",
            "| lemma        | bosque  |\n",
            "| constituency | cintil  |\n",
            "| depparse     | bosque  |\n",
            "==========================\n",
            "\n",
            "INFO:stanza:Using device: cpu\n",
            "INFO:stanza:Loading: tokenize\n",
            "INFO:stanza:Loading: mwt\n",
            "INFO:stanza:Loading: pos\n",
            "INFO:stanza:Loading: lemma\n",
            "INFO:stanza:Loading: constituency\n",
            "INFO:stanza:Loading: depparse\n",
            "INFO:stanza:Done loading processors!\n"
          ]
        }
      ]
    },
    {
      "cell_type": "code",
      "source": [
        "cs_lewis_quote = 'Eu descobri em mim mesmo desejos os quais nada nesta Terra pode satisfazer. A única explicação lógica é que fui feito para outro mundo.'\n",
        "\n",
        "for token in nlp(cs_lewis_quote).sentences:\n",
        "  text = str()\n",
        "  lemma = str()\n",
        "  for word in token.words:\n",
        "    text += word.text + '\\t'\n",
        "    lemma += word.lemma + '\\t'\n",
        "  print('Texto:', text)\n",
        "  print('Lemma:', lemma)"
      ],
      "metadata": {
        "colab": {
          "base_uri": "https://localhost:8080/"
        },
        "id": "pamwJCg-VvRt",
        "outputId": "174853ef-c035-4aca-bdce-24f95a9cec41"
      },
      "execution_count": 34,
      "outputs": [
        {
          "output_type": "stream",
          "name": "stdout",
          "text": [
            "Texto: Eu\tdescobri\tem\tmim\tmesmo\tdesejos\tos\tquais\tnada\tem\testa\tTerra\tpode\tsatisfazer\t.\t\n",
            "Lemma: eu\tdescobrir\tem\teu\tmesmo\tdesejo\to\tqual\tnada\tem\teste\tterra\tpoder\tsatisfazer\t.\t\n",
            "Texto: A\túnica\texplicação\tlógica\té\tque\tfui\tfeito\tpara\toutro\tmundo\t.\t\n",
            "Lemma: o\túnico\texplicação\tlógico\tser\tque\tser\tfazer\tpara\toutro\tmundo\t.\t\n"
          ]
        }
      ]
    },
    {
      "cell_type": "code",
      "source": [
        "for token in nlp(cs_lewis_quote).sentences:\n",
        "  print(token)"
      ],
      "metadata": {
        "colab": {
          "base_uri": "https://localhost:8080/"
        },
        "id": "NFlqPrFiWet2",
        "outputId": "26881a23-fe43-49fe-85b3-cfe4289df462"
      },
      "execution_count": 35,
      "outputs": [
        {
          "output_type": "stream",
          "name": "stdout",
          "text": [
            "[\n",
            "  {\n",
            "    \"id\": 1,\n",
            "    \"text\": \"Eu\",\n",
            "    \"lemma\": \"eu\",\n",
            "    \"upos\": \"PRON\",\n",
            "    \"feats\": \"Case=Nom|Number=Sing|Person=1|PronType=Prs\",\n",
            "    \"head\": 2,\n",
            "    \"deprel\": \"nsubj\",\n",
            "    \"start_char\": 0,\n",
            "    \"end_char\": 2\n",
            "  },\n",
            "  {\n",
            "    \"id\": 2,\n",
            "    \"text\": \"descobri\",\n",
            "    \"lemma\": \"descobrir\",\n",
            "    \"upos\": \"VERB\",\n",
            "    \"feats\": \"Mood=Ind|Number=Sing|Person=1|Tense=Past|VerbForm=Fin\",\n",
            "    \"head\": 0,\n",
            "    \"deprel\": \"root\",\n",
            "    \"start_char\": 3,\n",
            "    \"end_char\": 11\n",
            "  },\n",
            "  {\n",
            "    \"id\": 3,\n",
            "    \"text\": \"em\",\n",
            "    \"lemma\": \"em\",\n",
            "    \"upos\": \"ADP\",\n",
            "    \"head\": 4,\n",
            "    \"deprel\": \"case\",\n",
            "    \"start_char\": 12,\n",
            "    \"end_char\": 14\n",
            "  },\n",
            "  {\n",
            "    \"id\": 4,\n",
            "    \"text\": \"mim\",\n",
            "    \"lemma\": \"eu\",\n",
            "    \"upos\": \"PRON\",\n",
            "    \"feats\": \"Number=Sing|Person=1|PronType=Prs\",\n",
            "    \"head\": 2,\n",
            "    \"deprel\": \"obl\",\n",
            "    \"start_char\": 15,\n",
            "    \"end_char\": 18\n",
            "  },\n",
            "  {\n",
            "    \"id\": 5,\n",
            "    \"text\": \"mesmo\",\n",
            "    \"lemma\": \"mesmo\",\n",
            "    \"upos\": \"ADJ\",\n",
            "    \"feats\": \"Gender=Masc|Number=Sing\",\n",
            "    \"head\": 4,\n",
            "    \"deprel\": \"amod\",\n",
            "    \"start_char\": 19,\n",
            "    \"end_char\": 24\n",
            "  },\n",
            "  {\n",
            "    \"id\": 6,\n",
            "    \"text\": \"desejos\",\n",
            "    \"lemma\": \"desejo\",\n",
            "    \"upos\": \"NOUN\",\n",
            "    \"feats\": \"Gender=Masc|Number=Plur\",\n",
            "    \"head\": 2,\n",
            "    \"deprel\": \"obj\",\n",
            "    \"start_char\": 25,\n",
            "    \"end_char\": 32\n",
            "  },\n",
            "  {\n",
            "    \"id\": 7,\n",
            "    \"text\": \"os\",\n",
            "    \"lemma\": \"o\",\n",
            "    \"upos\": \"DET\",\n",
            "    \"feats\": \"Gender=Masc|Number=Plur|PronType=Art\",\n",
            "    \"head\": 8,\n",
            "    \"deprel\": \"det\",\n",
            "    \"start_char\": 33,\n",
            "    \"end_char\": 35\n",
            "  },\n",
            "  {\n",
            "    \"id\": 8,\n",
            "    \"text\": \"quais\",\n",
            "    \"lemma\": \"qual\",\n",
            "    \"upos\": \"PRON\",\n",
            "    \"feats\": \"Gender=Masc|Number=Plur|PronType=Rel\",\n",
            "    \"head\": 14,\n",
            "    \"deprel\": \"obj\",\n",
            "    \"start_char\": 36,\n",
            "    \"end_char\": 41\n",
            "  },\n",
            "  {\n",
            "    \"id\": 9,\n",
            "    \"text\": \"nada\",\n",
            "    \"lemma\": \"nada\",\n",
            "    \"upos\": \"PRON\",\n",
            "    \"feats\": \"Gender=Masc|Number=Sing|PronType=Ind\",\n",
            "    \"head\": 13,\n",
            "    \"deprel\": \"nsubj\",\n",
            "    \"start_char\": 42,\n",
            "    \"end_char\": 46\n",
            "  },\n",
            "  {\n",
            "    \"id\": [\n",
            "      10,\n",
            "      11\n",
            "    ],\n",
            "    \"text\": \"nesta\",\n",
            "    \"start_char\": 47,\n",
            "    \"end_char\": 52\n",
            "  },\n",
            "  {\n",
            "    \"id\": 10,\n",
            "    \"text\": \"em\",\n",
            "    \"lemma\": \"em\",\n",
            "    \"upos\": \"ADP\",\n",
            "    \"head\": 12,\n",
            "    \"deprel\": \"case\"\n",
            "  },\n",
            "  {\n",
            "    \"id\": 11,\n",
            "    \"text\": \"esta\",\n",
            "    \"lemma\": \"este\",\n",
            "    \"upos\": \"DET\",\n",
            "    \"feats\": \"Gender=Fem|Number=Sing|PronType=Dem\",\n",
            "    \"head\": 12,\n",
            "    \"deprel\": \"det\"\n",
            "  },\n",
            "  {\n",
            "    \"id\": 12,\n",
            "    \"text\": \"Terra\",\n",
            "    \"lemma\": \"terra\",\n",
            "    \"upos\": \"NOUN\",\n",
            "    \"feats\": \"Gender=Fem|Number=Sing\",\n",
            "    \"head\": 9,\n",
            "    \"deprel\": \"nmod\",\n",
            "    \"start_char\": 53,\n",
            "    \"end_char\": 58\n",
            "  },\n",
            "  {\n",
            "    \"id\": 13,\n",
            "    \"text\": \"pode\",\n",
            "    \"lemma\": \"poder\",\n",
            "    \"upos\": \"VERB\",\n",
            "    \"feats\": \"Mood=Ind|Number=Sing|Person=3|Tense=Pres|VerbForm=Fin\",\n",
            "    \"head\": 6,\n",
            "    \"deprel\": \"acl:relcl\",\n",
            "    \"start_char\": 59,\n",
            "    \"end_char\": 63\n",
            "  },\n",
            "  {\n",
            "    \"id\": 14,\n",
            "    \"text\": \"satisfazer\",\n",
            "    \"lemma\": \"satisfazer\",\n",
            "    \"upos\": \"VERB\",\n",
            "    \"feats\": \"VerbForm=Inf\",\n",
            "    \"head\": 13,\n",
            "    \"deprel\": \"xcomp\",\n",
            "    \"start_char\": 64,\n",
            "    \"end_char\": 74\n",
            "  },\n",
            "  {\n",
            "    \"id\": 15,\n",
            "    \"text\": \".\",\n",
            "    \"lemma\": \".\",\n",
            "    \"upos\": \"PUNCT\",\n",
            "    \"head\": 2,\n",
            "    \"deprel\": \"punct\",\n",
            "    \"start_char\": 74,\n",
            "    \"end_char\": 75\n",
            "  }\n",
            "]\n",
            "[\n",
            "  {\n",
            "    \"id\": 1,\n",
            "    \"text\": \"A\",\n",
            "    \"lemma\": \"o\",\n",
            "    \"upos\": \"DET\",\n",
            "    \"feats\": \"Definite=Def|Gender=Fem|Number=Sing|PronType=Art\",\n",
            "    \"head\": 3,\n",
            "    \"deprel\": \"det\",\n",
            "    \"start_char\": 76,\n",
            "    \"end_char\": 77\n",
            "  },\n",
            "  {\n",
            "    \"id\": 2,\n",
            "    \"text\": \"única\",\n",
            "    \"lemma\": \"único\",\n",
            "    \"upos\": \"ADJ\",\n",
            "    \"feats\": \"Gender=Fem|Number=Sing\",\n",
            "    \"head\": 3,\n",
            "    \"deprel\": \"amod\",\n",
            "    \"start_char\": 78,\n",
            "    \"end_char\": 83\n",
            "  },\n",
            "  {\n",
            "    \"id\": 3,\n",
            "    \"text\": \"explicação\",\n",
            "    \"lemma\": \"explicação\",\n",
            "    \"upos\": \"NOUN\",\n",
            "    \"feats\": \"Gender=Fem|Number=Sing\",\n",
            "    \"head\": 8,\n",
            "    \"deprel\": \"nsubj:pass\",\n",
            "    \"start_char\": 84,\n",
            "    \"end_char\": 94\n",
            "  },\n",
            "  {\n",
            "    \"id\": 4,\n",
            "    \"text\": \"lógica\",\n",
            "    \"lemma\": \"lógico\",\n",
            "    \"upos\": \"ADJ\",\n",
            "    \"feats\": \"Gender=Fem|Number=Sing\",\n",
            "    \"head\": 3,\n",
            "    \"deprel\": \"amod\",\n",
            "    \"start_char\": 95,\n",
            "    \"end_char\": 101\n",
            "  },\n",
            "  {\n",
            "    \"id\": 5,\n",
            "    \"text\": \"é\",\n",
            "    \"lemma\": \"ser\",\n",
            "    \"upos\": \"AUX\",\n",
            "    \"head\": 8,\n",
            "    \"deprel\": \"discourse\",\n",
            "    \"start_char\": 102,\n",
            "    \"end_char\": 103\n",
            "  },\n",
            "  {\n",
            "    \"id\": 6,\n",
            "    \"text\": \"que\",\n",
            "    \"lemma\": \"que\",\n",
            "    \"upos\": \"SCONJ\",\n",
            "    \"head\": 8,\n",
            "    \"deprel\": \"mark\",\n",
            "    \"start_char\": 104,\n",
            "    \"end_char\": 107\n",
            "  },\n",
            "  {\n",
            "    \"id\": 7,\n",
            "    \"text\": \"fui\",\n",
            "    \"lemma\": \"ser\",\n",
            "    \"upos\": \"AUX\",\n",
            "    \"feats\": \"Mood=Ind|Number=Sing|Person=1|Tense=Past|VerbForm=Fin\",\n",
            "    \"head\": 8,\n",
            "    \"deprel\": \"aux:pass\",\n",
            "    \"start_char\": 108,\n",
            "    \"end_char\": 111\n",
            "  },\n",
            "  {\n",
            "    \"id\": 8,\n",
            "    \"text\": \"feito\",\n",
            "    \"lemma\": \"fazer\",\n",
            "    \"upos\": \"VERB\",\n",
            "    \"feats\": \"Gender=Masc|Number=Sing|VerbForm=Part|Voice=Pass\",\n",
            "    \"head\": 0,\n",
            "    \"deprel\": \"root\",\n",
            "    \"start_char\": 112,\n",
            "    \"end_char\": 117\n",
            "  },\n",
            "  {\n",
            "    \"id\": 9,\n",
            "    \"text\": \"para\",\n",
            "    \"lemma\": \"para\",\n",
            "    \"upos\": \"ADP\",\n",
            "    \"head\": 11,\n",
            "    \"deprel\": \"case\",\n",
            "    \"start_char\": 118,\n",
            "    \"end_char\": 122\n",
            "  },\n",
            "  {\n",
            "    \"id\": 10,\n",
            "    \"text\": \"outro\",\n",
            "    \"lemma\": \"outro\",\n",
            "    \"upos\": \"DET\",\n",
            "    \"feats\": \"Gender=Masc|Number=Sing|PronType=Ind\",\n",
            "    \"head\": 11,\n",
            "    \"deprel\": \"det\",\n",
            "    \"start_char\": 123,\n",
            "    \"end_char\": 128\n",
            "  },\n",
            "  {\n",
            "    \"id\": 11,\n",
            "    \"text\": \"mundo\",\n",
            "    \"lemma\": \"mundo\",\n",
            "    \"upos\": \"NOUN\",\n",
            "    \"feats\": \"Gender=Masc|Number=Sing\",\n",
            "    \"head\": 8,\n",
            "    \"deprel\": \"obl\",\n",
            "    \"start_char\": 129,\n",
            "    \"end_char\": 134\n",
            "  },\n",
            "  {\n",
            "    \"id\": 12,\n",
            "    \"text\": \".\",\n",
            "    \"lemma\": \".\",\n",
            "    \"upos\": \"PUNCT\",\n",
            "    \"head\": 8,\n",
            "    \"deprel\": \"punct\",\n",
            "    \"start_char\": 134,\n",
            "    \"end_char\": 135\n",
            "  }\n",
            "]\n"
          ]
        }
      ]
    },
    {
      "cell_type": "code",
      "source": [
        "from nltk.corpus import wordnet as wn\n",
        "\n",
        "poses = { 'n' : 'non', 'v' : 'verb', 's' : 'adj (s)', 'a' : 'adj', 'r' : 'adv'}\n",
        "\n",
        "for synset in wn.synsets('good'):\n",
        "  print('{} : {}'.format(poses[synset.pos()], ', '.join([l.name() for l in synset.lemmas()])))"
      ],
      "metadata": {
        "colab": {
          "base_uri": "https://localhost:8080/"
        },
        "id": "34O0z41uXFds",
        "outputId": "46e8e6e8-a1b9-42f0-d02c-b23ffa4c862c"
      },
      "execution_count": 41,
      "outputs": [
        {
          "output_type": "stream",
          "name": "stdout",
          "text": [
            "non : good\n",
            "non : good, goodness\n",
            "non : good, goodness\n",
            "non : commodity, trade_good, good\n",
            "adj : good\n",
            "adj (s) : full, good\n",
            "adj : good\n",
            "adj (s) : estimable, good, honorable, respectable\n",
            "adj (s) : beneficial, good\n",
            "adj (s) : good\n",
            "adj (s) : good, just, upright\n",
            "adj (s) : adept, expert, good, practiced, proficient, skillful, skilful\n",
            "adj (s) : good\n",
            "adj (s) : dear, good, near\n",
            "adj (s) : dependable, good, safe, secure\n",
            "adj (s) : good, right, ripe\n",
            "adj (s) : good, well\n",
            "adj (s) : effective, good, in_effect, in_force\n",
            "adj (s) : good\n",
            "adj (s) : good, serious\n",
            "adj (s) : good, sound\n",
            "adj (s) : good, salutary\n",
            "adj (s) : good, honest\n",
            "adj (s) : good, undecomposed, unspoiled, unspoilt\n",
            "adj (s) : good\n",
            "adv : well, good\n",
            "adv : thoroughly, soundly, good\n"
          ]
        }
      ]
    },
    {
      "cell_type": "code",
      "source": [],
      "metadata": {
        "id": "HKedN5IgbOoW"
      },
      "execution_count": null,
      "outputs": []
    }
  ]
}