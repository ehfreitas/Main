{
  "nbformat": 4,
  "nbformat_minor": 0,
  "metadata": {
    "colab": {
      "provenance": []
    },
    "kernelspec": {
      "name": "python3",
      "display_name": "Python 3"
    },
    "language_info": {
      "name": "python"
    }
  },
  "cells": [
    {
      "cell_type": "code",
      "execution_count": 4,
      "metadata": {
        "id": "IdJ0qlgbua_O"
      },
      "outputs": [],
      "source": [
        "# TF_IDF\n",
        "\n",
        "# Carregando três documentos\n",
        "doc1 = 'O importante é não parar de questionar.'\n",
        "doc2 = 'Não importa o quão devagar você vá, desde que não aceite parar.'\n",
        "doc3 = 'O começo é a parte mais importante do trabalho.'"
      ]
    },
    {
      "cell_type": "code",
      "source": [
        "# Separando por espaços\n",
        "list1 = doc1.replace('.', '').lower().split(' ')\n",
        "list2= doc2.replace('.', '').lower().split(' ')\n",
        "list3 = doc3.replace('.', '').lower().split(' ')"
      ],
      "metadata": {
        "id": "K-amqyAHus6T"
      },
      "execution_count": 26,
      "outputs": []
    },
    {
      "cell_type": "code",
      "source": [
        "list2"
      ],
      "metadata": {
        "colab": {
          "base_uri": "https://localhost:8080/"
        },
        "id": "cBKrAifCu0-7",
        "outputId": "6ca6cf85-3813-4920-8ea9-4a1dfa82c1c4"
      },
      "execution_count": 27,
      "outputs": [
        {
          "output_type": "execute_result",
          "data": {
            "text/plain": [
              "['não',\n",
              " 'importa',\n",
              " 'o',\n",
              " 'quão',\n",
              " 'devagar',\n",
              " 'você',\n",
              " 'vá,',\n",
              " 'desde',\n",
              " 'que',\n",
              " 'não',\n",
              " 'aceite',\n",
              " 'parar']"
            ]
          },
          "metadata": {},
          "execution_count": 27
        }
      ]
    },
    {
      "cell_type": "code",
      "source": [
        "# Unindo os documentos em um corpus\n",
        "wordSet = set(list1 + list2 + list3)\n",
        "wordSet"
      ],
      "metadata": {
        "colab": {
          "base_uri": "https://localhost:8080/"
        },
        "id": "G_TexrZhu2r6",
        "outputId": "9f272a74-1ec0-4cb5-b343-d92378d7c3b8"
      },
      "execution_count": 28,
      "outputs": [
        {
          "output_type": "execute_result",
          "data": {
            "text/plain": [
              "{'a',\n",
              " 'aceite',\n",
              " 'começo',\n",
              " 'de',\n",
              " 'desde',\n",
              " 'devagar',\n",
              " 'do',\n",
              " 'importa',\n",
              " 'importante',\n",
              " 'mais',\n",
              " 'não',\n",
              " 'o',\n",
              " 'parar',\n",
              " 'parte',\n",
              " 'que',\n",
              " 'questionar',\n",
              " 'quão',\n",
              " 'trabalho',\n",
              " 'você',\n",
              " 'vá,',\n",
              " 'é'}"
            ]
          },
          "metadata": {},
          "execution_count": 28
        }
      ]
    },
    {
      "cell_type": "code",
      "source": [
        "# Criando dicionários de palavras, frequencia\n",
        "wordDict1 = dict.fromkeys(wordSet, 0)\n",
        "wordDict2 = dict.fromkeys(wordSet, 0)\n",
        "wordDict3 = dict.fromkeys(wordSet, 0)\n",
        "wordDict1"
      ],
      "metadata": {
        "colab": {
          "base_uri": "https://localhost:8080/"
        },
        "id": "zUSBKRrpvloa",
        "outputId": "d33daa5d-93e7-4ee6-c80f-0ef5f56858d4"
      },
      "execution_count": 29,
      "outputs": [
        {
          "output_type": "execute_result",
          "data": {
            "text/plain": [
              "{'do': 0,\n",
              " 'importa': 0,\n",
              " 'aceite': 0,\n",
              " 'mais': 0,\n",
              " 'vá,': 0,\n",
              " 'questionar': 0,\n",
              " 'que': 0,\n",
              " 'parar': 0,\n",
              " 'devagar': 0,\n",
              " 'a': 0,\n",
              " 'importante': 0,\n",
              " 'de': 0,\n",
              " 'o': 0,\n",
              " 'começo': 0,\n",
              " 'trabalho': 0,\n",
              " 'é': 0,\n",
              " 'você': 0,\n",
              " 'quão': 0,\n",
              " 'parte': 0,\n",
              " 'não': 0,\n",
              " 'desde': 0}"
            ]
          },
          "metadata": {},
          "execution_count": 29
        }
      ]
    },
    {
      "cell_type": "code",
      "source": [
        "# Gerando BoW\n",
        "for word in list1:\n",
        "  wordDict1[word] += 1\n",
        "\n",
        "for word in list2:\n",
        "  wordDict2[word] += 1\n",
        "\n",
        "for word in list3:\n",
        "  wordDict3[word] += 1\n",
        "wordDict3"
      ],
      "metadata": {
        "colab": {
          "base_uri": "https://localhost:8080/"
        },
        "id": "gS-YXTuXwA77",
        "outputId": "edd9733c-4f7b-4cb1-a3ac-cd25a9bd4c9b"
      },
      "execution_count": 30,
      "outputs": [
        {
          "output_type": "execute_result",
          "data": {
            "text/plain": [
              "{'do': 1,\n",
              " 'importa': 0,\n",
              " 'aceite': 0,\n",
              " 'mais': 1,\n",
              " 'vá,': 0,\n",
              " 'questionar': 0,\n",
              " 'que': 0,\n",
              " 'parar': 0,\n",
              " 'devagar': 0,\n",
              " 'a': 1,\n",
              " 'importante': 1,\n",
              " 'de': 0,\n",
              " 'o': 1,\n",
              " 'começo': 1,\n",
              " 'trabalho': 1,\n",
              " 'é': 1,\n",
              " 'você': 0,\n",
              " 'quão': 0,\n",
              " 'parte': 1,\n",
              " 'não': 0,\n",
              " 'desde': 0}"
            ]
          },
          "metadata": {},
          "execution_count": 30
        }
      ]
    },
    {
      "cell_type": "code",
      "source": [
        "wordDict1"
      ],
      "metadata": {
        "colab": {
          "base_uri": "https://localhost:8080/"
        },
        "id": "G6mwH-sKwuWq",
        "outputId": "140876f3-360b-47fc-f5e6-0b6342bb122f"
      },
      "execution_count": 31,
      "outputs": [
        {
          "output_type": "execute_result",
          "data": {
            "text/plain": [
              "{'do': 0,\n",
              " 'importa': 0,\n",
              " 'aceite': 0,\n",
              " 'mais': 0,\n",
              " 'vá,': 0,\n",
              " 'questionar': 1,\n",
              " 'que': 0,\n",
              " 'parar': 1,\n",
              " 'devagar': 0,\n",
              " 'a': 0,\n",
              " 'importante': 1,\n",
              " 'de': 1,\n",
              " 'o': 1,\n",
              " 'começo': 0,\n",
              " 'trabalho': 0,\n",
              " 'é': 1,\n",
              " 'você': 0,\n",
              " 'quão': 0,\n",
              " 'parte': 0,\n",
              " 'não': 1,\n",
              " 'desde': 0}"
            ]
          },
          "metadata": {},
          "execution_count": 31
        }
      ]
    },
    {
      "cell_type": "code",
      "source": [
        "import pandas as pd\n",
        "pd.DataFrame([wordDict1, wordDict2, wordDict3])"
      ],
      "metadata": {
        "colab": {
          "base_uri": "https://localhost:8080/",
          "height": 237
        },
        "id": "lBvQ-0HLxOYB",
        "outputId": "7c3a1eb8-05cc-4940-c2a2-71f08b3c2ce9"
      },
      "execution_count": 32,
      "outputs": [
        {
          "output_type": "execute_result",
          "data": {
            "text/plain": [
              "   do  importa  aceite  mais  vá,  questionar  que  parar  devagar  a  ...  \\\n",
              "0   0        0       0     0    0           1    0      1        0  0  ...   \n",
              "1   0        1       1     0    1           0    1      1        1  0  ...   \n",
              "2   1        0       0     1    0           0    0      0        0  1  ...   \n",
              "\n",
              "   de  o  começo  trabalho  é  você  quão  parte  não  desde  \n",
              "0   1  1       0         0  1     0     0      0    1      0  \n",
              "1   0  1       0         0  0     1     1      0    2      1  \n",
              "2   0  1       1         1  1     0     0      1    0      0  \n",
              "\n",
              "[3 rows x 21 columns]"
            ],
            "text/html": [
              "\n",
              "  <div id=\"df-e8a028b4-f212-41ab-981e-cb30746a6792\">\n",
              "    <div class=\"colab-df-container\">\n",
              "      <div>\n",
              "<style scoped>\n",
              "    .dataframe tbody tr th:only-of-type {\n",
              "        vertical-align: middle;\n",
              "    }\n",
              "\n",
              "    .dataframe tbody tr th {\n",
              "        vertical-align: top;\n",
              "    }\n",
              "\n",
              "    .dataframe thead th {\n",
              "        text-align: right;\n",
              "    }\n",
              "</style>\n",
              "<table border=\"1\" class=\"dataframe\">\n",
              "  <thead>\n",
              "    <tr style=\"text-align: right;\">\n",
              "      <th></th>\n",
              "      <th>do</th>\n",
              "      <th>importa</th>\n",
              "      <th>aceite</th>\n",
              "      <th>mais</th>\n",
              "      <th>vá,</th>\n",
              "      <th>questionar</th>\n",
              "      <th>que</th>\n",
              "      <th>parar</th>\n",
              "      <th>devagar</th>\n",
              "      <th>a</th>\n",
              "      <th>...</th>\n",
              "      <th>de</th>\n",
              "      <th>o</th>\n",
              "      <th>começo</th>\n",
              "      <th>trabalho</th>\n",
              "      <th>é</th>\n",
              "      <th>você</th>\n",
              "      <th>quão</th>\n",
              "      <th>parte</th>\n",
              "      <th>não</th>\n",
              "      <th>desde</th>\n",
              "    </tr>\n",
              "  </thead>\n",
              "  <tbody>\n",
              "    <tr>\n",
              "      <th>0</th>\n",
              "      <td>0</td>\n",
              "      <td>0</td>\n",
              "      <td>0</td>\n",
              "      <td>0</td>\n",
              "      <td>0</td>\n",
              "      <td>1</td>\n",
              "      <td>0</td>\n",
              "      <td>1</td>\n",
              "      <td>0</td>\n",
              "      <td>0</td>\n",
              "      <td>...</td>\n",
              "      <td>1</td>\n",
              "      <td>1</td>\n",
              "      <td>0</td>\n",
              "      <td>0</td>\n",
              "      <td>1</td>\n",
              "      <td>0</td>\n",
              "      <td>0</td>\n",
              "      <td>0</td>\n",
              "      <td>1</td>\n",
              "      <td>0</td>\n",
              "    </tr>\n",
              "    <tr>\n",
              "      <th>1</th>\n",
              "      <td>0</td>\n",
              "      <td>1</td>\n",
              "      <td>1</td>\n",
              "      <td>0</td>\n",
              "      <td>1</td>\n",
              "      <td>0</td>\n",
              "      <td>1</td>\n",
              "      <td>1</td>\n",
              "      <td>1</td>\n",
              "      <td>0</td>\n",
              "      <td>...</td>\n",
              "      <td>0</td>\n",
              "      <td>1</td>\n",
              "      <td>0</td>\n",
              "      <td>0</td>\n",
              "      <td>0</td>\n",
              "      <td>1</td>\n",
              "      <td>1</td>\n",
              "      <td>0</td>\n",
              "      <td>2</td>\n",
              "      <td>1</td>\n",
              "    </tr>\n",
              "    <tr>\n",
              "      <th>2</th>\n",
              "      <td>1</td>\n",
              "      <td>0</td>\n",
              "      <td>0</td>\n",
              "      <td>1</td>\n",
              "      <td>0</td>\n",
              "      <td>0</td>\n",
              "      <td>0</td>\n",
              "      <td>0</td>\n",
              "      <td>0</td>\n",
              "      <td>1</td>\n",
              "      <td>...</td>\n",
              "      <td>0</td>\n",
              "      <td>1</td>\n",
              "      <td>1</td>\n",
              "      <td>1</td>\n",
              "      <td>1</td>\n",
              "      <td>0</td>\n",
              "      <td>0</td>\n",
              "      <td>1</td>\n",
              "      <td>0</td>\n",
              "      <td>0</td>\n",
              "    </tr>\n",
              "  </tbody>\n",
              "</table>\n",
              "<p>3 rows × 21 columns</p>\n",
              "</div>\n",
              "      <button class=\"colab-df-convert\" onclick=\"convertToInteractive('df-e8a028b4-f212-41ab-981e-cb30746a6792')\"\n",
              "              title=\"Convert this dataframe to an interactive table.\"\n",
              "              style=\"display:none;\">\n",
              "        \n",
              "  <svg xmlns=\"http://www.w3.org/2000/svg\" height=\"24px\"viewBox=\"0 0 24 24\"\n",
              "       width=\"24px\">\n",
              "    <path d=\"M0 0h24v24H0V0z\" fill=\"none\"/>\n",
              "    <path d=\"M18.56 5.44l.94 2.06.94-2.06 2.06-.94-2.06-.94-.94-2.06-.94 2.06-2.06.94zm-11 1L8.5 8.5l.94-2.06 2.06-.94-2.06-.94L8.5 2.5l-.94 2.06-2.06.94zm10 10l.94 2.06.94-2.06 2.06-.94-2.06-.94-.94-2.06-.94 2.06-2.06.94z\"/><path d=\"M17.41 7.96l-1.37-1.37c-.4-.4-.92-.59-1.43-.59-.52 0-1.04.2-1.43.59L10.3 9.45l-7.72 7.72c-.78.78-.78 2.05 0 2.83L4 21.41c.39.39.9.59 1.41.59.51 0 1.02-.2 1.41-.59l7.78-7.78 2.81-2.81c.8-.78.8-2.07 0-2.86zM5.41 20L4 18.59l7.72-7.72 1.47 1.35L5.41 20z\"/>\n",
              "  </svg>\n",
              "      </button>\n",
              "      \n",
              "  <style>\n",
              "    .colab-df-container {\n",
              "      display:flex;\n",
              "      flex-wrap:wrap;\n",
              "      gap: 12px;\n",
              "    }\n",
              "\n",
              "    .colab-df-convert {\n",
              "      background-color: #E8F0FE;\n",
              "      border: none;\n",
              "      border-radius: 50%;\n",
              "      cursor: pointer;\n",
              "      display: none;\n",
              "      fill: #1967D2;\n",
              "      height: 32px;\n",
              "      padding: 0 0 0 0;\n",
              "      width: 32px;\n",
              "    }\n",
              "\n",
              "    .colab-df-convert:hover {\n",
              "      background-color: #E2EBFA;\n",
              "      box-shadow: 0px 1px 2px rgba(60, 64, 67, 0.3), 0px 1px 3px 1px rgba(60, 64, 67, 0.15);\n",
              "      fill: #174EA6;\n",
              "    }\n",
              "\n",
              "    [theme=dark] .colab-df-convert {\n",
              "      background-color: #3B4455;\n",
              "      fill: #D2E3FC;\n",
              "    }\n",
              "\n",
              "    [theme=dark] .colab-df-convert:hover {\n",
              "      background-color: #434B5C;\n",
              "      box-shadow: 0px 1px 3px 1px rgba(0, 0, 0, 0.15);\n",
              "      filter: drop-shadow(0px 1px 2px rgba(0, 0, 0, 0.3));\n",
              "      fill: #FFFFFF;\n",
              "    }\n",
              "  </style>\n",
              "\n",
              "      <script>\n",
              "        const buttonEl =\n",
              "          document.querySelector('#df-e8a028b4-f212-41ab-981e-cb30746a6792 button.colab-df-convert');\n",
              "        buttonEl.style.display =\n",
              "          google.colab.kernel.accessAllowed ? 'block' : 'none';\n",
              "\n",
              "        async function convertToInteractive(key) {\n",
              "          const element = document.querySelector('#df-e8a028b4-f212-41ab-981e-cb30746a6792');\n",
              "          const dataTable =\n",
              "            await google.colab.kernel.invokeFunction('convertToInteractive',\n",
              "                                                     [key], {});\n",
              "          if (!dataTable) return;\n",
              "\n",
              "          const docLinkHtml = 'Like what you see? Visit the ' +\n",
              "            '<a target=\"_blank\" href=https://colab.research.google.com/notebooks/data_table.ipynb>data table notebook</a>'\n",
              "            + ' to learn more about interactive tables.';\n",
              "          element.innerHTML = '';\n",
              "          dataTable['output_type'] = 'display_data';\n",
              "          await google.colab.output.renderOutput(dataTable, element);\n",
              "          const docLink = document.createElement('div');\n",
              "          docLink.innerHTML = docLinkHtml;\n",
              "          element.appendChild(docLink);\n",
              "        }\n",
              "      </script>\n",
              "    </div>\n",
              "  </div>\n",
              "  "
            ]
          },
          "metadata": {},
          "execution_count": 32
        }
      ]
    },
    {
      "cell_type": "code",
      "source": [
        "# Computando TF\n",
        "def computeTF(wordDict, str_list):\n",
        "  tfDict = {}\n",
        "  wordCount = len(str_list)\n",
        "  for word, count in wordDict.items():\n",
        "    tfDict[word] = count/float(wordCount)\n",
        "  return tfDict"
      ],
      "metadata": {
        "id": "sT0xoxlRxj9S"
      },
      "execution_count": 35,
      "outputs": []
    },
    {
      "cell_type": "code",
      "source": [
        "# Computando TF\n",
        "tfBow1 = computeTF(wordDict1, list1)\n",
        "tfBow2 = computeTF(wordDict2, list2)\n",
        "tfBow3 = computeTF(wordDict3, list3)"
      ],
      "metadata": {
        "id": "tS547D_7yet5"
      },
      "execution_count": 37,
      "outputs": []
    },
    {
      "cell_type": "code",
      "source": [
        "tfBow2"
      ],
      "metadata": {
        "colab": {
          "base_uri": "https://localhost:8080/"
        },
        "id": "ugky5weJyp3K",
        "outputId": "7f2c8a79-a141-42af-82e0-b12ad405a584"
      },
      "execution_count": 39,
      "outputs": [
        {
          "output_type": "execute_result",
          "data": {
            "text/plain": [
              "{'do': 0.0,\n",
              " 'importa': 0.08333333333333333,\n",
              " 'aceite': 0.08333333333333333,\n",
              " 'mais': 0.0,\n",
              " 'vá,': 0.08333333333333333,\n",
              " 'questionar': 0.0,\n",
              " 'que': 0.08333333333333333,\n",
              " 'parar': 0.08333333333333333,\n",
              " 'devagar': 0.08333333333333333,\n",
              " 'a': 0.0,\n",
              " 'importante': 0.0,\n",
              " 'de': 0.0,\n",
              " 'o': 0.08333333333333333,\n",
              " 'começo': 0.0,\n",
              " 'trabalho': 0.0,\n",
              " 'é': 0.0,\n",
              " 'você': 0.08333333333333333,\n",
              " 'quão': 0.08333333333333333,\n",
              " 'parte': 0.0,\n",
              " 'não': 0.16666666666666666,\n",
              " 'desde': 0.08333333333333333}"
            ]
          },
          "metadata": {},
          "execution_count": 39
        }
      ]
    },
    {
      "cell_type": "code",
      "source": [
        "# Computando IDF\n",
        "import math\n",
        "\n",
        "def computeIDF(docList):\n",
        "  idfDict = {}\n",
        "  N = len(docList)\n",
        "\n",
        "  idfDict = dict.fromkeys(docList[0].keys(), 0)\n",
        "  for doc in docList:\n",
        "    for word, val in doc.items():\n",
        "      if val > 0:\n",
        "        idfDict[word] += 1\n",
        "  \n",
        "  for word, val in idfDict.items():\n",
        "    idfDict[word] = math.log10(N / float(val))\n",
        "  \n",
        "  return idfDict"
      ],
      "metadata": {
        "id": "ODDU9o88y8Tz"
      },
      "execution_count": 40,
      "outputs": []
    },
    {
      "cell_type": "code",
      "source": [
        "idfs = computeIDF([wordDict1, wordDict2, wordDict3])\n",
        "idfs"
      ],
      "metadata": {
        "colab": {
          "base_uri": "https://localhost:8080/"
        },
        "id": "lY5xqYFnz5WK",
        "outputId": "4ccd9e45-30b7-419f-808b-bb4a0f00f00a"
      },
      "execution_count": 41,
      "outputs": [
        {
          "output_type": "execute_result",
          "data": {
            "text/plain": [
              "{'do': 0.47712125471966244,\n",
              " 'importa': 0.47712125471966244,\n",
              " 'aceite': 0.47712125471966244,\n",
              " 'mais': 0.47712125471966244,\n",
              " 'vá,': 0.47712125471966244,\n",
              " 'questionar': 0.47712125471966244,\n",
              " 'que': 0.47712125471966244,\n",
              " 'parar': 0.17609125905568124,\n",
              " 'devagar': 0.47712125471966244,\n",
              " 'a': 0.47712125471966244,\n",
              " 'importante': 0.17609125905568124,\n",
              " 'de': 0.47712125471966244,\n",
              " 'o': 0.0,\n",
              " 'começo': 0.47712125471966244,\n",
              " 'trabalho': 0.47712125471966244,\n",
              " 'é': 0.17609125905568124,\n",
              " 'você': 0.47712125471966244,\n",
              " 'quão': 0.47712125471966244,\n",
              " 'parte': 0.47712125471966244,\n",
              " 'não': 0.17609125905568124,\n",
              " 'desde': 0.47712125471966244}"
            ]
          },
          "metadata": {},
          "execution_count": 41
        }
      ]
    },
    {
      "cell_type": "code",
      "source": [
        "# computando TF - IDF\n",
        "def computeTFIDF(tfBow, idfs):\n",
        "  tfidf = {}\n",
        "  for word, val in tfBow.items():\n",
        "    tfidf[word] = val*idfs[word]\n",
        "  return tfidf"
      ],
      "metadata": {
        "id": "DTA_sdo5z_4y"
      },
      "execution_count": 42,
      "outputs": []
    },
    {
      "cell_type": "code",
      "source": [
        "tfidfBow1 = computeTFIDF(tfBow1, idfs)\n",
        "tfidfBow2 = computeTFIDF(tfBow2, idfs)\n",
        "tfidfBow3 = computeTFIDF(tfBow3, idfs)"
      ],
      "metadata": {
        "id": "d-s19z380vbp"
      },
      "execution_count": 43,
      "outputs": []
    },
    {
      "cell_type": "code",
      "source": [
        "pd.DataFrame([tfidfBow1, tfidfBow2, tfidfBow3])"
      ],
      "metadata": {
        "colab": {
          "base_uri": "https://localhost:8080/",
          "height": 237
        },
        "id": "zkdGEYpw03-A",
        "outputId": "1038302e-10bc-4397-dc25-a6a59f0ac287"
      },
      "execution_count": 44,
      "outputs": [
        {
          "output_type": "execute_result",
          "data": {
            "text/plain": [
              "         do  importa   aceite      mais      vá,  questionar      que  \\\n",
              "0  0.000000  0.00000  0.00000  0.000000  0.00000     0.06816  0.00000   \n",
              "1  0.000000  0.03976  0.03976  0.000000  0.03976     0.00000  0.03976   \n",
              "2  0.053013  0.00000  0.00000  0.053013  0.00000     0.00000  0.00000   \n",
              "\n",
              "      parar  devagar         a  ...       de    o    começo  trabalho  \\\n",
              "0  0.025156  0.00000  0.000000  ...  0.06816  0.0  0.000000  0.000000   \n",
              "1  0.014674  0.03976  0.000000  ...  0.00000  0.0  0.000000  0.000000   \n",
              "2  0.000000  0.00000  0.053013  ...  0.00000  0.0  0.053013  0.053013   \n",
              "\n",
              "          é     você     quão     parte       não    desde  \n",
              "0  0.025156  0.00000  0.00000  0.000000  0.025156  0.00000  \n",
              "1  0.000000  0.03976  0.03976  0.000000  0.029349  0.03976  \n",
              "2  0.019566  0.00000  0.00000  0.053013  0.000000  0.00000  \n",
              "\n",
              "[3 rows x 21 columns]"
            ],
            "text/html": [
              "\n",
              "  <div id=\"df-02afc49d-d9f1-48c4-9060-4b17b10e973a\">\n",
              "    <div class=\"colab-df-container\">\n",
              "      <div>\n",
              "<style scoped>\n",
              "    .dataframe tbody tr th:only-of-type {\n",
              "        vertical-align: middle;\n",
              "    }\n",
              "\n",
              "    .dataframe tbody tr th {\n",
              "        vertical-align: top;\n",
              "    }\n",
              "\n",
              "    .dataframe thead th {\n",
              "        text-align: right;\n",
              "    }\n",
              "</style>\n",
              "<table border=\"1\" class=\"dataframe\">\n",
              "  <thead>\n",
              "    <tr style=\"text-align: right;\">\n",
              "      <th></th>\n",
              "      <th>do</th>\n",
              "      <th>importa</th>\n",
              "      <th>aceite</th>\n",
              "      <th>mais</th>\n",
              "      <th>vá,</th>\n",
              "      <th>questionar</th>\n",
              "      <th>que</th>\n",
              "      <th>parar</th>\n",
              "      <th>devagar</th>\n",
              "      <th>a</th>\n",
              "      <th>...</th>\n",
              "      <th>de</th>\n",
              "      <th>o</th>\n",
              "      <th>começo</th>\n",
              "      <th>trabalho</th>\n",
              "      <th>é</th>\n",
              "      <th>você</th>\n",
              "      <th>quão</th>\n",
              "      <th>parte</th>\n",
              "      <th>não</th>\n",
              "      <th>desde</th>\n",
              "    </tr>\n",
              "  </thead>\n",
              "  <tbody>\n",
              "    <tr>\n",
              "      <th>0</th>\n",
              "      <td>0.000000</td>\n",
              "      <td>0.00000</td>\n",
              "      <td>0.00000</td>\n",
              "      <td>0.000000</td>\n",
              "      <td>0.00000</td>\n",
              "      <td>0.06816</td>\n",
              "      <td>0.00000</td>\n",
              "      <td>0.025156</td>\n",
              "      <td>0.00000</td>\n",
              "      <td>0.000000</td>\n",
              "      <td>...</td>\n",
              "      <td>0.06816</td>\n",
              "      <td>0.0</td>\n",
              "      <td>0.000000</td>\n",
              "      <td>0.000000</td>\n",
              "      <td>0.025156</td>\n",
              "      <td>0.00000</td>\n",
              "      <td>0.00000</td>\n",
              "      <td>0.000000</td>\n",
              "      <td>0.025156</td>\n",
              "      <td>0.00000</td>\n",
              "    </tr>\n",
              "    <tr>\n",
              "      <th>1</th>\n",
              "      <td>0.000000</td>\n",
              "      <td>0.03976</td>\n",
              "      <td>0.03976</td>\n",
              "      <td>0.000000</td>\n",
              "      <td>0.03976</td>\n",
              "      <td>0.00000</td>\n",
              "      <td>0.03976</td>\n",
              "      <td>0.014674</td>\n",
              "      <td>0.03976</td>\n",
              "      <td>0.000000</td>\n",
              "      <td>...</td>\n",
              "      <td>0.00000</td>\n",
              "      <td>0.0</td>\n",
              "      <td>0.000000</td>\n",
              "      <td>0.000000</td>\n",
              "      <td>0.000000</td>\n",
              "      <td>0.03976</td>\n",
              "      <td>0.03976</td>\n",
              "      <td>0.000000</td>\n",
              "      <td>0.029349</td>\n",
              "      <td>0.03976</td>\n",
              "    </tr>\n",
              "    <tr>\n",
              "      <th>2</th>\n",
              "      <td>0.053013</td>\n",
              "      <td>0.00000</td>\n",
              "      <td>0.00000</td>\n",
              "      <td>0.053013</td>\n",
              "      <td>0.00000</td>\n",
              "      <td>0.00000</td>\n",
              "      <td>0.00000</td>\n",
              "      <td>0.000000</td>\n",
              "      <td>0.00000</td>\n",
              "      <td>0.053013</td>\n",
              "      <td>...</td>\n",
              "      <td>0.00000</td>\n",
              "      <td>0.0</td>\n",
              "      <td>0.053013</td>\n",
              "      <td>0.053013</td>\n",
              "      <td>0.019566</td>\n",
              "      <td>0.00000</td>\n",
              "      <td>0.00000</td>\n",
              "      <td>0.053013</td>\n",
              "      <td>0.000000</td>\n",
              "      <td>0.00000</td>\n",
              "    </tr>\n",
              "  </tbody>\n",
              "</table>\n",
              "<p>3 rows × 21 columns</p>\n",
              "</div>\n",
              "      <button class=\"colab-df-convert\" onclick=\"convertToInteractive('df-02afc49d-d9f1-48c4-9060-4b17b10e973a')\"\n",
              "              title=\"Convert this dataframe to an interactive table.\"\n",
              "              style=\"display:none;\">\n",
              "        \n",
              "  <svg xmlns=\"http://www.w3.org/2000/svg\" height=\"24px\"viewBox=\"0 0 24 24\"\n",
              "       width=\"24px\">\n",
              "    <path d=\"M0 0h24v24H0V0z\" fill=\"none\"/>\n",
              "    <path d=\"M18.56 5.44l.94 2.06.94-2.06 2.06-.94-2.06-.94-.94-2.06-.94 2.06-2.06.94zm-11 1L8.5 8.5l.94-2.06 2.06-.94-2.06-.94L8.5 2.5l-.94 2.06-2.06.94zm10 10l.94 2.06.94-2.06 2.06-.94-2.06-.94-.94-2.06-.94 2.06-2.06.94z\"/><path d=\"M17.41 7.96l-1.37-1.37c-.4-.4-.92-.59-1.43-.59-.52 0-1.04.2-1.43.59L10.3 9.45l-7.72 7.72c-.78.78-.78 2.05 0 2.83L4 21.41c.39.39.9.59 1.41.59.51 0 1.02-.2 1.41-.59l7.78-7.78 2.81-2.81c.8-.78.8-2.07 0-2.86zM5.41 20L4 18.59l7.72-7.72 1.47 1.35L5.41 20z\"/>\n",
              "  </svg>\n",
              "      </button>\n",
              "      \n",
              "  <style>\n",
              "    .colab-df-container {\n",
              "      display:flex;\n",
              "      flex-wrap:wrap;\n",
              "      gap: 12px;\n",
              "    }\n",
              "\n",
              "    .colab-df-convert {\n",
              "      background-color: #E8F0FE;\n",
              "      border: none;\n",
              "      border-radius: 50%;\n",
              "      cursor: pointer;\n",
              "      display: none;\n",
              "      fill: #1967D2;\n",
              "      height: 32px;\n",
              "      padding: 0 0 0 0;\n",
              "      width: 32px;\n",
              "    }\n",
              "\n",
              "    .colab-df-convert:hover {\n",
              "      background-color: #E2EBFA;\n",
              "      box-shadow: 0px 1px 2px rgba(60, 64, 67, 0.3), 0px 1px 3px 1px rgba(60, 64, 67, 0.15);\n",
              "      fill: #174EA6;\n",
              "    }\n",
              "\n",
              "    [theme=dark] .colab-df-convert {\n",
              "      background-color: #3B4455;\n",
              "      fill: #D2E3FC;\n",
              "    }\n",
              "\n",
              "    [theme=dark] .colab-df-convert:hover {\n",
              "      background-color: #434B5C;\n",
              "      box-shadow: 0px 1px 3px 1px rgba(0, 0, 0, 0.15);\n",
              "      filter: drop-shadow(0px 1px 2px rgba(0, 0, 0, 0.3));\n",
              "      fill: #FFFFFF;\n",
              "    }\n",
              "  </style>\n",
              "\n",
              "      <script>\n",
              "        const buttonEl =\n",
              "          document.querySelector('#df-02afc49d-d9f1-48c4-9060-4b17b10e973a button.colab-df-convert');\n",
              "        buttonEl.style.display =\n",
              "          google.colab.kernel.accessAllowed ? 'block' : 'none';\n",
              "\n",
              "        async function convertToInteractive(key) {\n",
              "          const element = document.querySelector('#df-02afc49d-d9f1-48c4-9060-4b17b10e973a');\n",
              "          const dataTable =\n",
              "            await google.colab.kernel.invokeFunction('convertToInteractive',\n",
              "                                                     [key], {});\n",
              "          if (!dataTable) return;\n",
              "\n",
              "          const docLinkHtml = 'Like what you see? Visit the ' +\n",
              "            '<a target=\"_blank\" href=https://colab.research.google.com/notebooks/data_table.ipynb>data table notebook</a>'\n",
              "            + ' to learn more about interactive tables.';\n",
              "          element.innerHTML = '';\n",
              "          dataTable['output_type'] = 'display_data';\n",
              "          await google.colab.output.renderOutput(dataTable, element);\n",
              "          const docLink = document.createElement('div');\n",
              "          docLink.innerHTML = docLinkHtml;\n",
              "          element.appendChild(docLink);\n",
              "        }\n",
              "      </script>\n",
              "    </div>\n",
              "  </div>\n",
              "  "
            ]
          },
          "metadata": {},
          "execution_count": 44
        }
      ]
    },
    {
      "cell_type": "code",
      "source": [],
      "metadata": {
        "id": "lwh2k_R5098a"
      },
      "execution_count": null,
      "outputs": []
    }
  ]
}